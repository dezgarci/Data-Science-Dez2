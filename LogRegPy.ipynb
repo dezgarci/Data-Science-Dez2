{
 "cells": [
  {
   "cell_type": "markdown",
   "id": "ac10adc3-7176-4c99-9a9b-d6a2a95eca1d",
   "metadata": {},
   "source": [
    "# Logistic Regression in Python"
   ]
  },
  {
   "cell_type": "code",
   "execution_count": 1,
   "id": "81b7c166-2aa7-46c4-9580-dd3a77fe7104",
   "metadata": {},
   "outputs": [],
   "source": [
    "import pandas as pd\n",
    "import statsmodels.api as sm"
   ]
  },
  {
   "cell_type": "code",
   "execution_count": 2,
   "id": "7fcc4708-5786-4e50-8719-1277a91b5345",
   "metadata": {},
   "outputs": [],
   "source": [
    "#easiest to run log reg in R, as it's difficult to run in Python."
   ]
  },
  {
   "cell_type": "code",
   "execution_count": 3,
   "id": "13d96311-9846-4771-a2cb-0da26b3b93ae",
   "metadata": {},
   "outputs": [],
   "source": [
    "baseball = pd.read_csv('baseball.csv')"
   ]
  },
  {
   "cell_type": "code",
   "execution_count": 4,
   "id": "efad2009-e2d8-4299-b6f2-5be33a7ee475",
   "metadata": {},
   "outputs": [],
   "source": [
    "#data wrangling - recode the outcome variable\n",
    "def recode (series):\n",
    "    if series == \"W\":\n",
    "        return 1\n",
    "    if series == \"L\":\n",
    "        return 0\n",
    "baseball['WLr'] = baseball['W/L'].apply(recode)"
   ]
  },
  {
   "cell_type": "code",
   "execution_count": null,
   "id": "a2a24a20-c9b9-4a95-9f56-1e660e132369",
   "metadata": {},
   "outputs": [],
   "source": [
    "#make each var a datafra"
   ]
  }
 ],
 "metadata": {
  "kernelspec": {
   "display_name": "Python 3 (ipykernel)",
   "language": "python",
   "name": "python3"
  },
  "language_info": {
   "codemirror_mode": {
    "name": "ipython",
    "version": 3
   },
   "file_extension": ".py",
   "mimetype": "text/x-python",
   "name": "python",
   "nbconvert_exporter": "python",
   "pygments_lexer": "ipython3",
   "version": "3.10.4"
  }
 },
 "nbformat": 4,
 "nbformat_minor": 5
}
