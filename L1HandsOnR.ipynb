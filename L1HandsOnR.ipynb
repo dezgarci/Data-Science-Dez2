{
 "cells": [
  {
   "cell_type": "code",
   "execution_count": 1,
   "id": "a710c39e-27f9-4a95-a797-e5e896fd18ab",
   "metadata": {},
   "outputs": [
    {
     "name": "stderr",
     "output_type": "stream",
     "text": [
      "Warning message:\n",
      "\"package 'car' was built under R version 4.1.3\"\n",
      "Loading required package: carData\n",
      "\n",
      "Warning message:\n",
      "\"package 'carData' was built under R version 4.1.3\"\n",
      "Warning message:\n",
      "\"package 'caret' was built under R version 4.1.3\"\n",
      "Loading required package: ggplot2\n",
      "\n",
      "Loading required package: lattice\n",
      "\n",
      "Warning message:\n",
      "\"package 'predictmeans' was built under R version 4.1.3\"\n",
      "Loading required package: lme4\n",
      "\n",
      "Warning message:\n",
      "\"package 'lme4' was built under R version 4.1.3\"\n",
      "Loading required package: Matrix\n",
      "\n",
      "Loading required package: nlme\n",
      "\n",
      "\n",
      "Attaching package: 'nlme'\n",
      "\n",
      "\n",
      "The following object is masked from 'package:lme4':\n",
      "\n",
      "    lmList\n",
      "\n",
      "\n",
      "Loading required package: lmeInfo\n",
      "\n",
      "Warning message:\n",
      "\"package 'lmeInfo' was built under R version 4.1.3\"\n",
      "Loading required package: parallel\n",
      "\n",
      "Warning message:\n",
      "\"package 'e1071' was built under R version 4.1.3\"\n",
      "Warning message:\n",
      "\"package 'lmtest' was built under R version 4.1.3\"\n",
      "Loading required package: zoo\n",
      "\n",
      "\n",
      "Attaching package: 'zoo'\n",
      "\n",
      "\n",
      "The following objects are masked from 'package:base':\n",
      "\n",
      "    as.Date, as.Date.numeric\n",
      "\n",
      "\n"
     ]
    }
   ],
   "source": [
    "#hands on linear reg in R Lesson 1\n",
    "library(\"car\")\n",
    "library(\"caret\")\n",
    "library(\"gvlma\")\n",
    "library(\"predictmeans\")\n",
    "library(\"e1071\")\n",
    "library(\"lmtest\")"
   ]
  },
  {
   "cell_type": "code",
   "execution_count": 2,
   "id": "c04716bb-a24f-4fbd-affc-94a07d87d181",
   "metadata": {},
   "outputs": [],
   "source": [
    "#use heights.csv file\n",
    "heights = read.csv('heights.csv')"
   ]
  },
  {
   "cell_type": "code",
   "execution_count": 3,
   "id": "90155392-d64a-4ac5-950c-19d52e6d10b5",
   "metadata": {},
   "outputs": [
    {
     "data": {
      "text/html": [
       "<table class=\"dataframe\">\n",
       "<caption>A data.frame: 41 × 2</caption>\n",
       "<thead>\n",
       "\t<tr><th scope=col>AM_Height</th><th scope=col>PM_Height</th></tr>\n",
       "\t<tr><th scope=col>&lt;dbl&gt;</th><th scope=col>&lt;dbl&gt;</th></tr>\n",
       "</thead>\n",
       "<tbody>\n",
       "\t<tr><td>1728.75</td><td>1720.25</td></tr>\n",
       "\t<tr><td>1538.25</td><td>1528.50</td></tr>\n",
       "\t<tr><td>1462.25</td><td>1452.50</td></tr>\n",
       "\t<tr><td>1782.50</td><td>1776.50</td></tr>\n",
       "\t<tr><td>1671.00</td><td>1667.00</td></tr>\n",
       "\t<tr><td>1581.75</td><td>1571.00</td></tr>\n",
       "\t<tr><td>1673.75</td><td>1664.50</td></tr>\n",
       "\t<tr><td>1721.75</td><td>1708.50</td></tr>\n",
       "\t<tr><td>1646.50</td><td>1636.00</td></tr>\n",
       "\t<tr><td>1793.75</td><td>1781.75</td></tr>\n",
       "\t<tr><td>1825.25</td><td>1814.00</td></tr>\n",
       "\t<tr><td>1801.50</td><td>1787.00</td></tr>\n",
       "\t<tr><td>1742.50</td><td>1729.75</td></tr>\n",
       "\t<tr><td>1720.50</td><td>1711.50</td></tr>\n",
       "\t<tr><td>1728.25</td><td>1717.25</td></tr>\n",
       "\t<tr><td>1753.75</td><td>1742.75</td></tr>\n",
       "\t<tr><td>1725.50</td><td>1716.75</td></tr>\n",
       "\t<tr><td>1598.00</td><td>1592.25</td></tr>\n",
       "\t<tr><td>1756.25</td><td>1747.00</td></tr>\n",
       "\t<tr><td>1674.00</td><td>1662.50</td></tr>\n",
       "\t<tr><td>1688.75</td><td>1677.00</td></tr>\n",
       "\t<tr><td>1688.75</td><td>1681.00</td></tr>\n",
       "\t<tr><td>1620.75</td><td>1613.50</td></tr>\n",
       "\t<tr><td>1679.00</td><td>1668.25</td></tr>\n",
       "\t<tr><td>1557.25</td><td>1550.25</td></tr>\n",
       "\t<tr><td>1704.50</td><td>1696.50</td></tr>\n",
       "\t<tr><td>1632.75</td><td>1619.00</td></tr>\n",
       "\t<tr><td>1587.00</td><td>1581.50</td></tr>\n",
       "\t<tr><td>1598.75</td><td>1590.50</td></tr>\n",
       "\t<tr><td>1592.25</td><td>1583.50</td></tr>\n",
       "\t<tr><td>1719.50</td><td>1709.25</td></tr>\n",
       "\t<tr><td>1807.50</td><td>1795.00</td></tr>\n",
       "\t<tr><td>1624.00</td><td>1619.50</td></tr>\n",
       "\t<tr><td>1705.25</td><td>1694.50</td></tr>\n",
       "\t<tr><td>1692.75</td><td>1686.00</td></tr>\n",
       "\t<tr><td>1795.25</td><td>1782.00</td></tr>\n",
       "\t<tr><td>1643.50</td><td>1628.75</td></tr>\n",
       "\t<tr><td>1677.25</td><td>1668.25</td></tr>\n",
       "\t<tr><td>1647.75</td><td>1641.50</td></tr>\n",
       "\t<tr><td>1620.00</td><td>1608.25</td></tr>\n",
       "\t<tr><td>1727.50</td><td>1721.25</td></tr>\n",
       "</tbody>\n",
       "</table>\n"
      ],
      "text/latex": [
       "A data.frame: 41 × 2\n",
       "\\begin{tabular}{ll}\n",
       " AM\\_Height & PM\\_Height\\\\\n",
       " <dbl> & <dbl>\\\\\n",
       "\\hline\n",
       "\t 1728.75 & 1720.25\\\\\n",
       "\t 1538.25 & 1528.50\\\\\n",
       "\t 1462.25 & 1452.50\\\\\n",
       "\t 1782.50 & 1776.50\\\\\n",
       "\t 1671.00 & 1667.00\\\\\n",
       "\t 1581.75 & 1571.00\\\\\n",
       "\t 1673.75 & 1664.50\\\\\n",
       "\t 1721.75 & 1708.50\\\\\n",
       "\t 1646.50 & 1636.00\\\\\n",
       "\t 1793.75 & 1781.75\\\\\n",
       "\t 1825.25 & 1814.00\\\\\n",
       "\t 1801.50 & 1787.00\\\\\n",
       "\t 1742.50 & 1729.75\\\\\n",
       "\t 1720.50 & 1711.50\\\\\n",
       "\t 1728.25 & 1717.25\\\\\n",
       "\t 1753.75 & 1742.75\\\\\n",
       "\t 1725.50 & 1716.75\\\\\n",
       "\t 1598.00 & 1592.25\\\\\n",
       "\t 1756.25 & 1747.00\\\\\n",
       "\t 1674.00 & 1662.50\\\\\n",
       "\t 1688.75 & 1677.00\\\\\n",
       "\t 1688.75 & 1681.00\\\\\n",
       "\t 1620.75 & 1613.50\\\\\n",
       "\t 1679.00 & 1668.25\\\\\n",
       "\t 1557.25 & 1550.25\\\\\n",
       "\t 1704.50 & 1696.50\\\\\n",
       "\t 1632.75 & 1619.00\\\\\n",
       "\t 1587.00 & 1581.50\\\\\n",
       "\t 1598.75 & 1590.50\\\\\n",
       "\t 1592.25 & 1583.50\\\\\n",
       "\t 1719.50 & 1709.25\\\\\n",
       "\t 1807.50 & 1795.00\\\\\n",
       "\t 1624.00 & 1619.50\\\\\n",
       "\t 1705.25 & 1694.50\\\\\n",
       "\t 1692.75 & 1686.00\\\\\n",
       "\t 1795.25 & 1782.00\\\\\n",
       "\t 1643.50 & 1628.75\\\\\n",
       "\t 1677.25 & 1668.25\\\\\n",
       "\t 1647.75 & 1641.50\\\\\n",
       "\t 1620.00 & 1608.25\\\\\n",
       "\t 1727.50 & 1721.25\\\\\n",
       "\\end{tabular}\n"
      ],
      "text/markdown": [
       "\n",
       "A data.frame: 41 × 2\n",
       "\n",
       "| AM_Height &lt;dbl&gt; | PM_Height &lt;dbl&gt; |\n",
       "|---|---|\n",
       "| 1728.75 | 1720.25 |\n",
       "| 1538.25 | 1528.50 |\n",
       "| 1462.25 | 1452.50 |\n",
       "| 1782.50 | 1776.50 |\n",
       "| 1671.00 | 1667.00 |\n",
       "| 1581.75 | 1571.00 |\n",
       "| 1673.75 | 1664.50 |\n",
       "| 1721.75 | 1708.50 |\n",
       "| 1646.50 | 1636.00 |\n",
       "| 1793.75 | 1781.75 |\n",
       "| 1825.25 | 1814.00 |\n",
       "| 1801.50 | 1787.00 |\n",
       "| 1742.50 | 1729.75 |\n",
       "| 1720.50 | 1711.50 |\n",
       "| 1728.25 | 1717.25 |\n",
       "| 1753.75 | 1742.75 |\n",
       "| 1725.50 | 1716.75 |\n",
       "| 1598.00 | 1592.25 |\n",
       "| 1756.25 | 1747.00 |\n",
       "| 1674.00 | 1662.50 |\n",
       "| 1688.75 | 1677.00 |\n",
       "| 1688.75 | 1681.00 |\n",
       "| 1620.75 | 1613.50 |\n",
       "| 1679.00 | 1668.25 |\n",
       "| 1557.25 | 1550.25 |\n",
       "| 1704.50 | 1696.50 |\n",
       "| 1632.75 | 1619.00 |\n",
       "| 1587.00 | 1581.50 |\n",
       "| 1598.75 | 1590.50 |\n",
       "| 1592.25 | 1583.50 |\n",
       "| 1719.50 | 1709.25 |\n",
       "| 1807.50 | 1795.00 |\n",
       "| 1624.00 | 1619.50 |\n",
       "| 1705.25 | 1694.50 |\n",
       "| 1692.75 | 1686.00 |\n",
       "| 1795.25 | 1782.00 |\n",
       "| 1643.50 | 1628.75 |\n",
       "| 1677.25 | 1668.25 |\n",
       "| 1647.75 | 1641.50 |\n",
       "| 1620.00 | 1608.25 |\n",
       "| 1727.50 | 1721.25 |\n",
       "\n"
      ],
      "text/plain": [
       "   AM_Height PM_Height\n",
       "1  1728.75   1720.25  \n",
       "2  1538.25   1528.50  \n",
       "3  1462.25   1452.50  \n",
       "4  1782.50   1776.50  \n",
       "5  1671.00   1667.00  \n",
       "6  1581.75   1571.00  \n",
       "7  1673.75   1664.50  \n",
       "8  1721.75   1708.50  \n",
       "9  1646.50   1636.00  \n",
       "10 1793.75   1781.75  \n",
       "11 1825.25   1814.00  \n",
       "12 1801.50   1787.00  \n",
       "13 1742.50   1729.75  \n",
       "14 1720.50   1711.50  \n",
       "15 1728.25   1717.25  \n",
       "16 1753.75   1742.75  \n",
       "17 1725.50   1716.75  \n",
       "18 1598.00   1592.25  \n",
       "19 1756.25   1747.00  \n",
       "20 1674.00   1662.50  \n",
       "21 1688.75   1677.00  \n",
       "22 1688.75   1681.00  \n",
       "23 1620.75   1613.50  \n",
       "24 1679.00   1668.25  \n",
       "25 1557.25   1550.25  \n",
       "26 1704.50   1696.50  \n",
       "27 1632.75   1619.00  \n",
       "28 1587.00   1581.50  \n",
       "29 1598.75   1590.50  \n",
       "30 1592.25   1583.50  \n",
       "31 1719.50   1709.25  \n",
       "32 1807.50   1795.00  \n",
       "33 1624.00   1619.50  \n",
       "34 1705.25   1694.50  \n",
       "35 1692.75   1686.00  \n",
       "36 1795.25   1782.00  \n",
       "37 1643.50   1628.75  \n",
       "38 1677.25   1668.25  \n",
       "39 1647.75   1641.50  \n",
       "40 1620.00   1608.25  \n",
       "41 1727.50   1721.25  "
      ]
     },
     "metadata": {},
     "output_type": "display_data"
    }
   ],
   "source": [
    "heights"
   ]
  },
  {
   "cell_type": "markdown",
   "id": "99324af3-8a06-475d-a549-9369e8c334d1",
   "metadata": {},
   "source": [
    "### Create a Scatterplot to Check for Linearity\n"
   ]
  },
  {
   "cell_type": "code",
   "execution_count": 6,
   "id": "0dc76616-2fee-4132-9c3e-2e45de15a2b6",
   "metadata": {},
   "outputs": [
    {
     "data": {
      "image/png": "[encoded data removed]",
      "text/plain": [
       "Plot with title \"Heights throughout the Day\""
      ]
     },
     "metadata": {
      "image/png": {
       "height": 420,
       "width": 420
      }
     },
     "output_type": "display_data"
    }
   ],
   "source": [
    "scatter.smooth(x=heights$AM_Height, y=heights$PM_Height, main=\"Heights throughout the Day\")"
   ]
  },
  {
   "cell_type": "code",
   "execution_count": null,
   "id": "d44d68eb-f89e-49b3-9cf1-78409d604cba",
   "metadata": {},
   "outputs": [],
   "source": [
    "# Plot appears pretty linear, so the assumption of linearity has been met."
   ]
  },
  {
   "cell_type": "markdown",
   "id": "e8454552-b4e3-4cd8-8d86-8a0de3116c18",
   "metadata": {},
   "source": [
    "### Test for Homoscedasticity\n"
   ]
  },
  {
   "cell_type": "code",
   "execution_count": 7,
   "id": "2c44846c-2571-478b-8f40-4a6697f32cd9",
   "metadata": {},
   "outputs": [],
   "source": [
    "# create a linear model\n",
    "lmMod <- lm(PM_Height~AM_Height, data=heights)"
   ]
  },
  {
   "cell_type": "code",
   "execution_count": 8,
   "id": "181793a9-7b73-4ed2-9e6f-c6ba3dd9dc52",
   "metadata": {},
   "outputs": [
    {
     "data": {
      "image/png": "[encoded data removed]",
      "text/plain": [
       "Plot with title \"\""
      ]
     },
     "metadata": {
      "image/png": {
       "height": 420,
       "width": 420
      }
     },
     "output_type": "display_data"
    }
   ],
   "source": [
    "par(mfrow=c(2,2))\n",
    "plot(lmMod)"
   ]
  },
  {
   "cell_type": "code",
   "execution_count": 10,
   "id": "215d5c02-cd2b-49ad-8902-c120b3d04d6e",
   "metadata": {},
   "outputs": [
    {
     "data": {
      "text/plain": [
       "\n",
       "\tstudentized Breusch-Pagan test\n",
       "\n",
       "data:  lmMod\n",
       "BP = 0.2079, df = 1, p-value = 0.6484\n"
      ]
     },
     "metadata": {},
     "output_type": "display_data"
    }
   ],
   "source": [
    "#looking at the two left graphs, we are expecting a flat red line horizontally to know if the assumption of \n",
    "#homoscedasticity is met. It's hard to tell from this, so run some stats to confirm: BP test\n",
    "\n",
    "lmtest::bptest(lmMod)"
   ]
  },
  {
   "cell_type": "code",
   "execution_count": 12,
   "id": "dec3d08a-684b-4112-bf45-54cc07cf4a88",
   "metadata": {},
   "outputs": [
    {
     "data": {
      "text/plain": [
       "Non-constant Variance Score Test \n",
       "Variance formula: ~ fitted.values \n",
       "Chisquare = 0.1519285, Df = 1, p = 0.6967"
      ]
     },
     "metadata": {},
     "output_type": "display_data"
    }
   ],
   "source": [
    "# p value in BP test is greater than 0.05, so it is not significant and therefore passes for Homoscedasticity.\n",
    "#can also run NCV test:\n",
    "car::ncvTest(lmMod)"
   ]
  },
  {
   "cell_type": "code",
   "execution_count": null,
   "id": "ffe0d429-2eb3-4651-94e5-9bfdee066836",
   "metadata": {},
   "outputs": [],
   "source": []
  }
 ],
 "metadata": {
  "kernelspec": {
   "display_name": "R",
   "language": "R",
   "name": "ir"
  },
  "language_info": {
   "codemirror_mode": "r",
   "file_extension": ".r",
   "mimetype": "text/x-r-source",
   "name": "R",
   "pygments_lexer": "r",
   "version": "4.1.2"
  }
 },
 "nbformat": 4,
 "nbformat_minor": 5
}
