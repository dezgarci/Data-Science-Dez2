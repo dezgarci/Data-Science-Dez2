{
 "cells": [
  {
   "cell_type": "markdown",
   "id": "3b9fb82d-c01b-4b04-8685-4816f0d819c1",
   "metadata": {},
   "source": [
    "# Credit Card Approvals"
   ]
  },
  {
   "cell_type": "markdown",
   "id": "6e6efd6c-601e-42f9-87e7-7422e3c3391a",
   "metadata": {},
   "source": [
    "#### Import Packages"
   ]
  },
  {
   "cell_type": "code",
   "execution_count": 1,
   "id": "ec3af3cf-b3a3-43d2-8e41-bcbbc5d3bc07",
   "metadata": {},
   "outputs": [],
   "source": [
    "#Basics\n",
    "import numpy as np\n",
    "import pandas as pd\n",
    "import matplotlib.pyplot as plt\n",
    "%matplotlib inline\n",
    "import seaborn as sns\n",
    "import plotly as py\n",
    "import datetime as dt\n",
    "import scipy as scp\n",
    "\n",
    "#linear regression\n",
    "from pylab import *\n",
    "import statsmodels.api as sm\n",
    "import statsmodels.stats.api as sms\n",
    "\n",
    "\n",
    "#Machine Learning\n",
    "from sklearn.ensemble import RandomForestClassifier\n",
    "from sklearn.linear_model import LinearRegression\n",
    "from sklearn.cluster import KMeans\n",
    "from sklearn.preprocessing import StandardScaler\n",
    "from sklearn.neighbors import KNeighborsClassifier\n",
    "from sklearn.model_selection import train_test_split\n",
    "from sklearn.metrics import accuracy_score, classification_report, confusion_matrix, recall_score, precision_score, f1_score, roc_auc_score\n",
    "from sklearn.linear_model import LogisticRegression\n",
    "from sklearn.tree import DecisionTreeClassifier"
   ]
  },
  {
   "cell_type": "markdown",
   "id": "e6383744-e56c-417f-afc5-e835a8a94aba",
   "metadata": {},
   "source": [
    "#### Create dFs"
   ]
  },
  {
   "cell_type": "code",
   "execution_count": 2,
   "id": "6996cb28-689b-40b7-bfeb-ace702617f58",
   "metadata": {},
   "outputs": [],
   "source": [
    "applications = pd.read_csv('application_record.csv')\n",
    "records = pd.read_csv('credit_record.csv')"
   ]
  },
  {
   "cell_type": "markdown",
   "id": "170388f3-753f-4c20-85a4-2a57b5171b9a",
   "metadata": {},
   "source": [
    "## Data Exploration and Wrangling"
   ]
  },
  {
   "cell_type": "code",
   "execution_count": 3,
   "id": "9a58757d-c8e2-4699-aa6f-0aead4407e11",
   "metadata": {},
   "outputs": [
    {
     "data": {
      "text/html": [
       "<div>\n",
       "<style scoped>\n",
       "    .dataframe tbody tr th:only-of-type {\n",
       "        vertical-align: middle;\n",
       "    }\n",
       "\n",
       "    .dataframe tbody tr th {\n",
       "        vertical-align: top;\n",
       "    }\n",
       "\n",
       "    .dataframe thead th {\n",
       "        text-align: right;\n",
       "    }\n",
       "</style>\n",
       "<table border=\"1\" class=\"dataframe\">\n",
       "  <thead>\n",
       "    <tr style=\"text-align: right;\">\n",
       "      <th></th>\n",
       "      <th>ID</th>\n",
       "      <th>CODE_GENDER</th>\n",
       "      <th>FLAG_OWN_CAR</th>\n",
       "      <th>FLAG_OWN_REALTY</th>\n",
       "      <th>CNT_CHILDREN</th>\n",
       "      <th>AMT_INCOME_TOTAL</th>\n",
       "      <th>NAME_INCOME_TYPE</th>\n",
       "      <th>NAME_EDUCATION_TYPE</th>\n",
       "      <th>NAME_FAMILY_STATUS</th>\n",
       "      <th>NAME_HOUSING_TYPE</th>\n",
       "      <th>DAYS_BIRTH</th>\n",
       "      <th>DAYS_EMPLOYED</th>\n",
       "      <th>FLAG_MOBIL</th>\n",
       "      <th>FLAG_WORK_PHONE</th>\n",
       "      <th>FLAG_PHONE</th>\n",
       "      <th>FLAG_EMAIL</th>\n",
       "      <th>OCCUPATION_TYPE</th>\n",
       "      <th>CNT_FAM_MEMBERS</th>\n",
       "    </tr>\n",
       "  </thead>\n",
       "  <tbody>\n",
       "    <tr>\n",
       "      <th>0</th>\n",
       "      <td>5008804</td>\n",
       "      <td>M</td>\n",
       "      <td>Y</td>\n",
       "      <td>Y</td>\n",
       "      <td>0</td>\n",
       "      <td>427500.0</td>\n",
       "      <td>Working</td>\n",
       "      <td>Higher education</td>\n",
       "      <td>Civil marriage</td>\n",
       "      <td>Rented apartment</td>\n",
       "      <td>-12005</td>\n",
       "      <td>-4542</td>\n",
       "      <td>1</td>\n",
       "      <td>1</td>\n",
       "      <td>0</td>\n",
       "      <td>0</td>\n",
       "      <td>NaN</td>\n",
       "      <td>2.0</td>\n",
       "    </tr>\n",
       "    <tr>\n",
       "      <th>1</th>\n",
       "      <td>5008805</td>\n",
       "      <td>M</td>\n",
       "      <td>Y</td>\n",
       "      <td>Y</td>\n",
       "      <td>0</td>\n",
       "      <td>427500.0</td>\n",
       "      <td>Working</td>\n",
       "      <td>Higher education</td>\n",
       "      <td>Civil marriage</td>\n",
       "      <td>Rented apartment</td>\n",
       "      <td>-12005</td>\n",
       "      <td>-4542</td>\n",
       "      <td>1</td>\n",
       "      <td>1</td>\n",
       "      <td>0</td>\n",
       "      <td>0</td>\n",
       "      <td>NaN</td>\n",
       "      <td>2.0</td>\n",
       "    </tr>\n",
       "    <tr>\n",
       "      <th>2</th>\n",
       "      <td>5008806</td>\n",
       "      <td>M</td>\n",
       "      <td>Y</td>\n",
       "      <td>Y</td>\n",
       "      <td>0</td>\n",
       "      <td>112500.0</td>\n",
       "      <td>Working</td>\n",
       "      <td>Secondary / secondary special</td>\n",
       "      <td>Married</td>\n",
       "      <td>House / apartment</td>\n",
       "      <td>-21474</td>\n",
       "      <td>-1134</td>\n",
       "      <td>1</td>\n",
       "      <td>0</td>\n",
       "      <td>0</td>\n",
       "      <td>0</td>\n",
       "      <td>Security staff</td>\n",
       "      <td>2.0</td>\n",
       "    </tr>\n",
       "    <tr>\n",
       "      <th>3</th>\n",
       "      <td>5008808</td>\n",
       "      <td>F</td>\n",
       "      <td>N</td>\n",
       "      <td>Y</td>\n",
       "      <td>0</td>\n",
       "      <td>270000.0</td>\n",
       "      <td>Commercial associate</td>\n",
       "      <td>Secondary / secondary special</td>\n",
       "      <td>Single / not married</td>\n",
       "      <td>House / apartment</td>\n",
       "      <td>-19110</td>\n",
       "      <td>-3051</td>\n",
       "      <td>1</td>\n",
       "      <td>0</td>\n",
       "      <td>1</td>\n",
       "      <td>1</td>\n",
       "      <td>Sales staff</td>\n",
       "      <td>1.0</td>\n",
       "    </tr>\n",
       "    <tr>\n",
       "      <th>4</th>\n",
       "      <td>5008809</td>\n",
       "      <td>F</td>\n",
       "      <td>N</td>\n",
       "      <td>Y</td>\n",
       "      <td>0</td>\n",
       "      <td>270000.0</td>\n",
       "      <td>Commercial associate</td>\n",
       "      <td>Secondary / secondary special</td>\n",
       "      <td>Single / not married</td>\n",
       "      <td>House / apartment</td>\n",
       "      <td>-19110</td>\n",
       "      <td>-3051</td>\n",
       "      <td>1</td>\n",
       "      <td>0</td>\n",
       "      <td>1</td>\n",
       "      <td>1</td>\n",
       "      <td>Sales staff</td>\n",
       "      <td>1.0</td>\n",
       "    </tr>\n",
       "  </tbody>\n",
       "</table>\n",
       "</div>"
      ],
      "text/plain": [
       "        ID CODE_GENDER FLAG_OWN_CAR FLAG_OWN_REALTY  CNT_CHILDREN  \\\n",
       "0  5008804           M            Y               Y             0   \n",
       "1  5008805           M            Y               Y             0   \n",
       "2  5008806           M            Y               Y             0   \n",
       "3  5008808           F            N               Y             0   \n",
       "4  5008809           F            N               Y             0   \n",
       "\n",
       "   AMT_INCOME_TOTAL      NAME_INCOME_TYPE            NAME_EDUCATION_TYPE  \\\n",
       "0          427500.0               Working               Higher education   \n",
       "1          427500.0               Working               Higher education   \n",
       "2          112500.0               Working  Secondary / secondary special   \n",
       "3          270000.0  Commercial associate  Secondary / secondary special   \n",
       "4          270000.0  Commercial associate  Secondary / secondary special   \n",
       "\n",
       "     NAME_FAMILY_STATUS  NAME_HOUSING_TYPE  DAYS_BIRTH  DAYS_EMPLOYED  \\\n",
       "0        Civil marriage   Rented apartment      -12005          -4542   \n",
       "1        Civil marriage   Rented apartment      -12005          -4542   \n",
       "2               Married  House / apartment      -21474          -1134   \n",
       "3  Single / not married  House / apartment      -19110          -3051   \n",
       "4  Single / not married  House / apartment      -19110          -3051   \n",
       "\n",
       "   FLAG_MOBIL  FLAG_WORK_PHONE  FLAG_PHONE  FLAG_EMAIL OCCUPATION_TYPE  \\\n",
       "0           1                1           0           0             NaN   \n",
       "1           1                1           0           0             NaN   \n",
       "2           1                0           0           0  Security staff   \n",
       "3           1                0           1           1     Sales staff   \n",
       "4           1                0           1           1     Sales staff   \n",
       "\n",
       "   CNT_FAM_MEMBERS  \n",
       "0              2.0  \n",
       "1              2.0  \n",
       "2              2.0  \n",
       "3              1.0  \n",
       "4              1.0  "
      ]
     },
     "execution_count": 3,
     "metadata": {},
     "output_type": "execute_result"
    }
   ],
   "source": [
    "applications.head()"
   ]
  },
  {
   "cell_type": "code",
   "execution_count": 4,
   "id": "ff36a0ae-b9e3-4c15-8072-515495014f38",
   "metadata": {},
   "outputs": [
    {
     "data": {
      "text/html": [
       "<div>\n",
       "<style scoped>\n",
       "    .dataframe tbody tr th:only-of-type {\n",
       "        vertical-align: middle;\n",
       "    }\n",
       "\n",
       "    .dataframe tbody tr th {\n",
       "        vertical-align: top;\n",
       "    }\n",
       "\n",
       "    .dataframe thead th {\n",
       "        text-align: right;\n",
       "    }\n",
       "</style>\n",
       "<table border=\"1\" class=\"dataframe\">\n",
       "  <thead>\n",
       "    <tr style=\"text-align: right;\">\n",
       "      <th></th>\n",
       "      <th>ID</th>\n",
       "      <th>MONTHS_BALANCE</th>\n",
       "      <th>STATUS</th>\n",
       "    </tr>\n",
       "  </thead>\n",
       "  <tbody>\n",
       "    <tr>\n",
       "      <th>0</th>\n",
       "      <td>5001711</td>\n",
       "      <td>0</td>\n",
       "      <td>X</td>\n",
       "    </tr>\n",
       "    <tr>\n",
       "      <th>1</th>\n",
       "      <td>5001711</td>\n",
       "      <td>-1</td>\n",
       "      <td>0</td>\n",
       "    </tr>\n",
       "    <tr>\n",
       "      <th>2</th>\n",
       "      <td>5001711</td>\n",
       "      <td>-2</td>\n",
       "      <td>0</td>\n",
       "    </tr>\n",
       "    <tr>\n",
       "      <th>3</th>\n",
       "      <td>5001711</td>\n",
       "      <td>-3</td>\n",
       "      <td>0</td>\n",
       "    </tr>\n",
       "    <tr>\n",
       "      <th>4</th>\n",
       "      <td>5001712</td>\n",
       "      <td>0</td>\n",
       "      <td>C</td>\n",
       "    </tr>\n",
       "  </tbody>\n",
       "</table>\n",
       "</div>"
      ],
      "text/plain": [
       "        ID  MONTHS_BALANCE STATUS\n",
       "0  5001711               0      X\n",
       "1  5001711              -1      0\n",
       "2  5001711              -2      0\n",
       "3  5001711              -3      0\n",
       "4  5001712               0      C"
      ]
     },
     "execution_count": 4,
     "metadata": {},
     "output_type": "execute_result"
    }
   ],
   "source": [
    "records.head()"
   ]
  },
  {
   "cell_type": "code",
   "execution_count": 5,
   "id": "d04fcab0-6c0a-49bb-bffb-4df118b7891c",
   "metadata": {},
   "outputs": [
    {
     "name": "stdout",
     "output_type": "stream",
     "text": [
      "<class 'pandas.core.frame.DataFrame'>\n",
      "RangeIndex: 438557 entries, 0 to 438556\n",
      "Data columns (total 18 columns):\n",
      " #   Column               Non-Null Count   Dtype  \n",
      "---  ------               --------------   -----  \n",
      " 0   ID                   438557 non-null  int64  \n",
      " 1   CODE_GENDER          438557 non-null  object \n",
      " 2   FLAG_OWN_CAR         438557 non-null  object \n",
      " 3   FLAG_OWN_REALTY      438557 non-null  object \n",
      " 4   CNT_CHILDREN         438557 non-null  int64  \n",
      " 5   AMT_INCOME_TOTAL     438557 non-null  float64\n",
      " 6   NAME_INCOME_TYPE     438557 non-null  object \n",
      " 7   NAME_EDUCATION_TYPE  438557 non-null  object \n",
      " 8   NAME_FAMILY_STATUS   438557 non-null  object \n",
      " 9   NAME_HOUSING_TYPE    438557 non-null  object \n",
      " 10  DAYS_BIRTH           438557 non-null  int64  \n",
      " 11  DAYS_EMPLOYED        438557 non-null  int64  \n",
      " 12  FLAG_MOBIL           438557 non-null  int64  \n",
      " 13  FLAG_WORK_PHONE      438557 non-null  int64  \n",
      " 14  FLAG_PHONE           438557 non-null  int64  \n",
      " 15  FLAG_EMAIL           438557 non-null  int64  \n",
      " 16  OCCUPATION_TYPE      304354 non-null  object \n",
      " 17  CNT_FAM_MEMBERS      438557 non-null  float64\n",
      "dtypes: float64(2), int64(8), object(8)\n",
      "memory usage: 60.2+ MB\n"
     ]
    }
   ],
   "source": [
    "applications.info()"
   ]
  },
  {
   "cell_type": "code",
   "execution_count": 6,
   "id": "c3564aaa-ea77-4535-81b9-e8b7513d7857",
   "metadata": {},
   "outputs": [
    {
     "data": {
      "text/plain": [
       "ID                          0\n",
       "CODE_GENDER                 0\n",
       "FLAG_OWN_CAR                0\n",
       "FLAG_OWN_REALTY             0\n",
       "CNT_CHILDREN                0\n",
       "AMT_INCOME_TOTAL            0\n",
       "NAME_INCOME_TYPE            0\n",
       "NAME_EDUCATION_TYPE         0\n",
       "NAME_FAMILY_STATUS          0\n",
       "NAME_HOUSING_TYPE           0\n",
       "DAYS_BIRTH                  0\n",
       "DAYS_EMPLOYED               0\n",
       "FLAG_MOBIL                  0\n",
       "FLAG_WORK_PHONE             0\n",
       "FLAG_PHONE                  0\n",
       "FLAG_EMAIL                  0\n",
       "OCCUPATION_TYPE        134203\n",
       "CNT_FAM_MEMBERS             0\n",
       "dtype: int64"
      ]
     },
     "execution_count": 6,
     "metadata": {},
     "output_type": "execute_result"
    }
   ],
   "source": [
    "applications.isna().sum()"
   ]
  },
  {
   "cell_type": "code",
   "execution_count": 7,
   "id": "81c8320f-9dab-4bd0-8fcd-063edb93c54f",
   "metadata": {},
   "outputs": [
    {
     "name": "stdout",
     "output_type": "stream",
     "text": [
      "<class 'pandas.core.frame.DataFrame'>\n",
      "RangeIndex: 1048575 entries, 0 to 1048574\n",
      "Data columns (total 3 columns):\n",
      " #   Column          Non-Null Count    Dtype \n",
      "---  ------          --------------    ----- \n",
      " 0   ID              1048575 non-null  int64 \n",
      " 1   MONTHS_BALANCE  1048575 non-null  int64 \n",
      " 2   STATUS          1048575 non-null  object\n",
      "dtypes: int64(2), object(1)\n",
      "memory usage: 24.0+ MB\n"
     ]
    }
   ],
   "source": [
    "records.info()"
   ]
  },
  {
   "cell_type": "code",
   "execution_count": 8,
   "id": "2f089398-d1f7-424b-b4f1-e1de55eaaaf2",
   "metadata": {},
   "outputs": [],
   "source": [
    "# subset data - drop variables that most likely won't affect the DV.\n",
    "applications2 = applications.drop(['FLAG_MOBIL', 'FLAG_WORK_PHONE', 'FLAG_PHONE', 'FLAG_EMAIL'], axis=1)"
   ]
  },
  {
   "cell_type": "code",
   "execution_count": 9,
   "id": "f715f06b-42c3-4b19-9034-09222b8dc2c3",
   "metadata": {},
   "outputs": [],
   "source": [
    "# Rename columns\n",
    "applications2.rename(columns={'CODE_GENDER': 'gender', 'FLAG_OWN_CAR' : 'ownsCar', 'FLAG_OWN_REALTY' : 'ownsRealty', 'CNT_CHILDREN' : 'numChildren', 'AMT_INCOME_TOTAL' : 'totalIncome', 'NAME_INCOME_TYPE' : 'incomeType', 'NAME_EDUCATION_TYPE' : 'EduLvl', 'NAME_FAMILY_STATUS': 'famStatus', 'NAME_HOUSING_TYPE' : 'housingType', 'DAYS_BIRTH' : 'daysBirth', 'DAYS_EMPLOYED' : 'daysEmpl', 'OCCUPATION_TYPE' : 'occupation', 'CNT_FAM_MEMBERS' : 'famSize'}, inplace = True)"
   ]
  },
  {
   "cell_type": "code",
   "execution_count": 10,
   "id": "b3424b1e-f4f5-4c99-a7c5-cc3bfd7afd8a",
   "metadata": {},
   "outputs": [],
   "source": [
    "# convert daysBirth to Age in years\n",
    "applications2['age'] = np.ceil(pd.to_timedelta(applications2['daysBirth'], unit='D').dt.days / -365.25)\n",
    "applications2.drop('daysBirth', axis = 1, inplace = True)"
   ]
  },
  {
   "cell_type": "code",
   "execution_count": 11,
   "id": "2b4e236d-fc47-4b55-9b07-42d8b0910398",
   "metadata": {},
   "outputs": [],
   "source": [
    "# convert daysEmpl to yrsEmpl\n",
    "applications2['yrsEmpl']=-applications2['daysEmpl']/365.2425\n",
    "applications2.loc[applications2['yrsEmpl']<0,'yrsEmpl']=0\n",
    "applications2.drop('daysEmpl', axis=1, inplace=True)"
   ]
  },
  {
   "cell_type": "code",
   "execution_count": 45,
   "id": "0ab0ad9e-28d3-4a5c-a1c2-45b68c1aa541",
   "metadata": {},
   "outputs": [
    {
     "name": "stdout",
     "output_type": "stream",
     "text": [
      "<class 'pandas.core.frame.DataFrame'>\n",
      "Int64Index: 304354 entries, 2 to 438556\n",
      "Data columns (total 14 columns):\n",
      " #   Column       Non-Null Count   Dtype  \n",
      "---  ------       --------------   -----  \n",
      " 0   ID           304354 non-null  int64  \n",
      " 1   gender       304354 non-null  object \n",
      " 2   ownsCar      304354 non-null  object \n",
      " 3   ownsRealty   304354 non-null  object \n",
      " 4   numChildren  304354 non-null  int64  \n",
      " 5   totalIncome  304354 non-null  float64\n",
      " 6   incomeType   304354 non-null  object \n",
      " 7   EduLvl       304354 non-null  object \n",
      " 8   famStatus    304354 non-null  object \n",
      " 9   housingType  304354 non-null  object \n",
      " 10  occupation   304354 non-null  object \n",
      " 11  famSize      304354 non-null  float64\n",
      " 12  age          304354 non-null  float64\n",
      " 13  yrsEmpl      304354 non-null  float64\n",
      "dtypes: float64(4), int64(2), object(8)\n",
      "memory usage: 34.8+ MB\n"
     ]
    }
   ],
   "source": [
    "applications2.info()"
   ]
  },
  {
   "cell_type": "code",
   "execution_count": 12,
   "id": "d752b183-cfe1-42ea-9b40-701e5daa3ea8",
   "metadata": {},
   "outputs": [
    {
     "data": {
      "text/html": [
       "<div>\n",
       "<style scoped>\n",
       "    .dataframe tbody tr th:only-of-type {\n",
       "        vertical-align: middle;\n",
       "    }\n",
       "\n",
       "    .dataframe tbody tr th {\n",
       "        vertical-align: top;\n",
       "    }\n",
       "\n",
       "    .dataframe thead th {\n",
       "        text-align: right;\n",
       "    }\n",
       "</style>\n",
       "<table border=\"1\" class=\"dataframe\">\n",
       "  <thead>\n",
       "    <tr style=\"text-align: right;\">\n",
       "      <th></th>\n",
       "      <th>ID</th>\n",
       "      <th>gender</th>\n",
       "      <th>ownsCar</th>\n",
       "      <th>ownsRealty</th>\n",
       "      <th>numChildren</th>\n",
       "      <th>totalIncome</th>\n",
       "      <th>incomeType</th>\n",
       "      <th>EduLvl</th>\n",
       "      <th>famStatus</th>\n",
       "      <th>housingType</th>\n",
       "      <th>occupation</th>\n",
       "      <th>famSize</th>\n",
       "      <th>age</th>\n",
       "      <th>yrsEmpl</th>\n",
       "    </tr>\n",
       "  </thead>\n",
       "  <tbody>\n",
       "    <tr>\n",
       "      <th>0</th>\n",
       "      <td>5008804</td>\n",
       "      <td>M</td>\n",
       "      <td>Y</td>\n",
       "      <td>Y</td>\n",
       "      <td>0</td>\n",
       "      <td>427500.0</td>\n",
       "      <td>Working</td>\n",
       "      <td>Higher education</td>\n",
       "      <td>Civil marriage</td>\n",
       "      <td>Rented apartment</td>\n",
       "      <td>NaN</td>\n",
       "      <td>2.0</td>\n",
       "      <td>33.0</td>\n",
       "      <td>12.435574</td>\n",
       "    </tr>\n",
       "    <tr>\n",
       "      <th>1</th>\n",
       "      <td>5008805</td>\n",
       "      <td>M</td>\n",
       "      <td>Y</td>\n",
       "      <td>Y</td>\n",
       "      <td>0</td>\n",
       "      <td>427500.0</td>\n",
       "      <td>Working</td>\n",
       "      <td>Higher education</td>\n",
       "      <td>Civil marriage</td>\n",
       "      <td>Rented apartment</td>\n",
       "      <td>NaN</td>\n",
       "      <td>2.0</td>\n",
       "      <td>33.0</td>\n",
       "      <td>12.435574</td>\n",
       "    </tr>\n",
       "    <tr>\n",
       "      <th>2</th>\n",
       "      <td>5008806</td>\n",
       "      <td>M</td>\n",
       "      <td>Y</td>\n",
       "      <td>Y</td>\n",
       "      <td>0</td>\n",
       "      <td>112500.0</td>\n",
       "      <td>Working</td>\n",
       "      <td>Secondary / secondary special</td>\n",
       "      <td>Married</td>\n",
       "      <td>House / apartment</td>\n",
       "      <td>Security staff</td>\n",
       "      <td>2.0</td>\n",
       "      <td>59.0</td>\n",
       "      <td>3.104787</td>\n",
       "    </tr>\n",
       "    <tr>\n",
       "      <th>3</th>\n",
       "      <td>5008808</td>\n",
       "      <td>F</td>\n",
       "      <td>N</td>\n",
       "      <td>Y</td>\n",
       "      <td>0</td>\n",
       "      <td>270000.0</td>\n",
       "      <td>Commercial associate</td>\n",
       "      <td>Secondary / secondary special</td>\n",
       "      <td>Single / not married</td>\n",
       "      <td>House / apartment</td>\n",
       "      <td>Sales staff</td>\n",
       "      <td>1.0</td>\n",
       "      <td>53.0</td>\n",
       "      <td>8.353354</td>\n",
       "    </tr>\n",
       "    <tr>\n",
       "      <th>4</th>\n",
       "      <td>5008809</td>\n",
       "      <td>F</td>\n",
       "      <td>N</td>\n",
       "      <td>Y</td>\n",
       "      <td>0</td>\n",
       "      <td>270000.0</td>\n",
       "      <td>Commercial associate</td>\n",
       "      <td>Secondary / secondary special</td>\n",
       "      <td>Single / not married</td>\n",
       "      <td>House / apartment</td>\n",
       "      <td>Sales staff</td>\n",
       "      <td>1.0</td>\n",
       "      <td>53.0</td>\n",
       "      <td>8.353354</td>\n",
       "    </tr>\n",
       "  </tbody>\n",
       "</table>\n",
       "</div>"
      ],
      "text/plain": [
       "        ID gender ownsCar ownsRealty  numChildren  totalIncome  \\\n",
       "0  5008804      M       Y          Y            0     427500.0   \n",
       "1  5008805      M       Y          Y            0     427500.0   \n",
       "2  5008806      M       Y          Y            0     112500.0   \n",
       "3  5008808      F       N          Y            0     270000.0   \n",
       "4  5008809      F       N          Y            0     270000.0   \n",
       "\n",
       "             incomeType                         EduLvl             famStatus  \\\n",
       "0               Working               Higher education        Civil marriage   \n",
       "1               Working               Higher education        Civil marriage   \n",
       "2               Working  Secondary / secondary special               Married   \n",
       "3  Commercial associate  Secondary / secondary special  Single / not married   \n",
       "4  Commercial associate  Secondary / secondary special  Single / not married   \n",
       "\n",
       "         housingType      occupation  famSize   age    yrsEmpl  \n",
       "0   Rented apartment             NaN      2.0  33.0  12.435574  \n",
       "1   Rented apartment             NaN      2.0  33.0  12.435574  \n",
       "2  House / apartment  Security staff      2.0  59.0   3.104787  \n",
       "3  House / apartment     Sales staff      1.0  53.0   8.353354  \n",
       "4  House / apartment     Sales staff      1.0  53.0   8.353354  "
      ]
     },
     "execution_count": 12,
     "metadata": {},
     "output_type": "execute_result"
    }
   ],
   "source": [
    "applications2.head()"
   ]
  },
  {
   "cell_type": "code",
   "execution_count": 44,
   "id": "efa52788-1c0e-4188-b7e9-5b0aaa9857dd",
   "metadata": {},
   "outputs": [
    {
     "data": {
      "text/html": [
       "<div>\n",
       "<style scoped>\n",
       "    .dataframe tbody tr th:only-of-type {\n",
       "        vertical-align: middle;\n",
       "    }\n",
       "\n",
       "    .dataframe tbody tr th {\n",
       "        vertical-align: top;\n",
       "    }\n",
       "\n",
       "    .dataframe thead th {\n",
       "        text-align: right;\n",
       "    }\n",
       "</style>\n",
       "<table border=\"1\" class=\"dataframe\">\n",
       "  <thead>\n",
       "    <tr style=\"text-align: right;\">\n",
       "      <th></th>\n",
       "      <th>ID</th>\n",
       "      <th>gender</th>\n",
       "      <th>ownsCar</th>\n",
       "      <th>ownsRealty</th>\n",
       "      <th>numChildren</th>\n",
       "      <th>totalIncome</th>\n",
       "      <th>incomeType</th>\n",
       "      <th>EduLvl</th>\n",
       "      <th>famStatus</th>\n",
       "      <th>housingType</th>\n",
       "      <th>occupation</th>\n",
       "      <th>famSize</th>\n",
       "      <th>age</th>\n",
       "      <th>yrsEmpl</th>\n",
       "    </tr>\n",
       "  </thead>\n",
       "  <tbody>\n",
       "    <tr>\n",
       "      <th>438535</th>\n",
       "      <td>6837236</td>\n",
       "      <td>F</td>\n",
       "      <td>N</td>\n",
       "      <td>Y</td>\n",
       "      <td>0</td>\n",
       "      <td>135000.0</td>\n",
       "      <td>Working</td>\n",
       "      <td>Secondary / secondary special</td>\n",
       "      <td>Married</td>\n",
       "      <td>House / apartment</td>\n",
       "      <td>Laborers</td>\n",
       "      <td>2.0</td>\n",
       "      <td>38.0</td>\n",
       "      <td>2.992532</td>\n",
       "    </tr>\n",
       "    <tr>\n",
       "      <th>438536</th>\n",
       "      <td>6837264</td>\n",
       "      <td>F</td>\n",
       "      <td>N</td>\n",
       "      <td>N</td>\n",
       "      <td>2</td>\n",
       "      <td>90000.0</td>\n",
       "      <td>State servant</td>\n",
       "      <td>Higher education</td>\n",
       "      <td>Single / not married</td>\n",
       "      <td>House / apartment</td>\n",
       "      <td>Core staff</td>\n",
       "      <td>4.0</td>\n",
       "      <td>44.0</td>\n",
       "      <td>3.490831</td>\n",
       "    </tr>\n",
       "    <tr>\n",
       "      <th>438537</th>\n",
       "      <td>6837450</td>\n",
       "      <td>M</td>\n",
       "      <td>N</td>\n",
       "      <td>Y</td>\n",
       "      <td>1</td>\n",
       "      <td>135000.0</td>\n",
       "      <td>Working</td>\n",
       "      <td>Secondary / secondary special</td>\n",
       "      <td>Separated</td>\n",
       "      <td>House / apartment</td>\n",
       "      <td>Security staff</td>\n",
       "      <td>2.0</td>\n",
       "      <td>36.0</td>\n",
       "      <td>0.490085</td>\n",
       "    </tr>\n",
       "    <tr>\n",
       "      <th>438538</th>\n",
       "      <td>6837452</td>\n",
       "      <td>M</td>\n",
       "      <td>N</td>\n",
       "      <td>N</td>\n",
       "      <td>1</td>\n",
       "      <td>135000.0</td>\n",
       "      <td>Working</td>\n",
       "      <td>Secondary / secondary special</td>\n",
       "      <td>Separated</td>\n",
       "      <td>House / apartment</td>\n",
       "      <td>Security staff</td>\n",
       "      <td>2.0</td>\n",
       "      <td>36.0</td>\n",
       "      <td>0.490085</td>\n",
       "    </tr>\n",
       "    <tr>\n",
       "      <th>438539</th>\n",
       "      <td>6837454</td>\n",
       "      <td>M</td>\n",
       "      <td>Y</td>\n",
       "      <td>Y</td>\n",
       "      <td>1</td>\n",
       "      <td>162000.0</td>\n",
       "      <td>State servant</td>\n",
       "      <td>Secondary / secondary special</td>\n",
       "      <td>Married</td>\n",
       "      <td>House / apartment</td>\n",
       "      <td>Core staff</td>\n",
       "      <td>3.0</td>\n",
       "      <td>30.0</td>\n",
       "      <td>7.323901</td>\n",
       "    </tr>\n",
       "    <tr>\n",
       "      <th>438541</th>\n",
       "      <td>6837707</td>\n",
       "      <td>M</td>\n",
       "      <td>N</td>\n",
       "      <td>Y</td>\n",
       "      <td>0</td>\n",
       "      <td>202500.0</td>\n",
       "      <td>Working</td>\n",
       "      <td>Higher education</td>\n",
       "      <td>Civil marriage</td>\n",
       "      <td>House / apartment</td>\n",
       "      <td>Laborers</td>\n",
       "      <td>2.0</td>\n",
       "      <td>37.0</td>\n",
       "      <td>6.321827</td>\n",
       "    </tr>\n",
       "    <tr>\n",
       "      <th>438548</th>\n",
       "      <td>6839936</td>\n",
       "      <td>M</td>\n",
       "      <td>Y</td>\n",
       "      <td>Y</td>\n",
       "      <td>1</td>\n",
       "      <td>135000.0</td>\n",
       "      <td>Working</td>\n",
       "      <td>Secondary / secondary special</td>\n",
       "      <td>Married</td>\n",
       "      <td>House / apartment</td>\n",
       "      <td>Laborers</td>\n",
       "      <td>3.0</td>\n",
       "      <td>35.0</td>\n",
       "      <td>5.735915</td>\n",
       "    </tr>\n",
       "    <tr>\n",
       "      <th>438553</th>\n",
       "      <td>6840222</td>\n",
       "      <td>F</td>\n",
       "      <td>N</td>\n",
       "      <td>N</td>\n",
       "      <td>0</td>\n",
       "      <td>103500.0</td>\n",
       "      <td>Working</td>\n",
       "      <td>Secondary / secondary special</td>\n",
       "      <td>Single / not married</td>\n",
       "      <td>House / apartment</td>\n",
       "      <td>Laborers</td>\n",
       "      <td>1.0</td>\n",
       "      <td>44.0</td>\n",
       "      <td>8.232886</td>\n",
       "    </tr>\n",
       "    <tr>\n",
       "      <th>438554</th>\n",
       "      <td>6841878</td>\n",
       "      <td>F</td>\n",
       "      <td>N</td>\n",
       "      <td>N</td>\n",
       "      <td>0</td>\n",
       "      <td>54000.0</td>\n",
       "      <td>Commercial associate</td>\n",
       "      <td>Higher education</td>\n",
       "      <td>Single / not married</td>\n",
       "      <td>With parents</td>\n",
       "      <td>Sales staff</td>\n",
       "      <td>1.0</td>\n",
       "      <td>23.0</td>\n",
       "      <td>1.018501</td>\n",
       "    </tr>\n",
       "    <tr>\n",
       "      <th>438556</th>\n",
       "      <td>6842885</td>\n",
       "      <td>F</td>\n",
       "      <td>N</td>\n",
       "      <td>Y</td>\n",
       "      <td>0</td>\n",
       "      <td>121500.0</td>\n",
       "      <td>Working</td>\n",
       "      <td>Secondary / secondary special</td>\n",
       "      <td>Married</td>\n",
       "      <td>House / apartment</td>\n",
       "      <td>Sales staff</td>\n",
       "      <td>2.0</td>\n",
       "      <td>52.0</td>\n",
       "      <td>3.288226</td>\n",
       "    </tr>\n",
       "  </tbody>\n",
       "</table>\n",
       "</div>"
      ],
      "text/plain": [
       "             ID gender ownsCar ownsRealty  numChildren  totalIncome  \\\n",
       "438535  6837236      F       N          Y            0     135000.0   \n",
       "438536  6837264      F       N          N            2      90000.0   \n",
       "438537  6837450      M       N          Y            1     135000.0   \n",
       "438538  6837452      M       N          N            1     135000.0   \n",
       "438539  6837454      M       Y          Y            1     162000.0   \n",
       "438541  6837707      M       N          Y            0     202500.0   \n",
       "438548  6839936      M       Y          Y            1     135000.0   \n",
       "438553  6840222      F       N          N            0     103500.0   \n",
       "438554  6841878      F       N          N            0      54000.0   \n",
       "438556  6842885      F       N          Y            0     121500.0   \n",
       "\n",
       "                  incomeType                         EduLvl  \\\n",
       "438535               Working  Secondary / secondary special   \n",
       "438536         State servant               Higher education   \n",
       "438537               Working  Secondary / secondary special   \n",
       "438538               Working  Secondary / secondary special   \n",
       "438539         State servant  Secondary / secondary special   \n",
       "438541               Working               Higher education   \n",
       "438548               Working  Secondary / secondary special   \n",
       "438553               Working  Secondary / secondary special   \n",
       "438554  Commercial associate               Higher education   \n",
       "438556               Working  Secondary / secondary special   \n",
       "\n",
       "                   famStatus        housingType      occupation  famSize  \\\n",
       "438535               Married  House / apartment        Laborers      2.0   \n",
       "438536  Single / not married  House / apartment      Core staff      4.0   \n",
       "438537             Separated  House / apartment  Security staff      2.0   \n",
       "438538             Separated  House / apartment  Security staff      2.0   \n",
       "438539               Married  House / apartment      Core staff      3.0   \n",
       "438541        Civil marriage  House / apartment        Laborers      2.0   \n",
       "438548               Married  House / apartment        Laborers      3.0   \n",
       "438553  Single / not married  House / apartment        Laborers      1.0   \n",
       "438554  Single / not married       With parents     Sales staff      1.0   \n",
       "438556               Married  House / apartment     Sales staff      2.0   \n",
       "\n",
       "         age   yrsEmpl  \n",
       "438535  38.0  2.992532  \n",
       "438536  44.0  3.490831  \n",
       "438537  36.0  0.490085  \n",
       "438538  36.0  0.490085  \n",
       "438539  30.0  7.323901  \n",
       "438541  37.0  6.321827  \n",
       "438548  35.0  5.735915  \n",
       "438553  44.0  8.232886  \n",
       "438554  23.0  1.018501  \n",
       "438556  52.0  3.288226  "
      ]
     },
     "execution_count": 44,
     "metadata": {},
     "output_type": "execute_result"
    }
   ],
   "source": [
    "applications2.tail(10)"
   ]
  },
  {
   "cell_type": "code",
   "execution_count": 13,
   "id": "700e1a3a-eb0a-484d-ad88-d195176006c9",
   "metadata": {},
   "outputs": [],
   "source": [
    "# drop missing values\n",
    "applications2.dropna(inplace = True)"
   ]
  },
  {
   "cell_type": "code",
   "execution_count": 14,
   "id": "88e18126-4252-4333-a63f-77edee0b32bd",
   "metadata": {},
   "outputs": [],
   "source": [
    "# drop duplicates\n",
    "applications3=applications2.drop_duplicates(subset=applications2.columns[1:], keep='first')"
   ]
  },
  {
   "cell_type": "code",
   "execution_count": 15,
   "id": "897d96ba-fcfd-4331-a5b9-b9d66f2089e5",
   "metadata": {},
   "outputs": [
    {
     "data": {
      "text/html": [
       "<div>\n",
       "<style scoped>\n",
       "    .dataframe tbody tr th:only-of-type {\n",
       "        vertical-align: middle;\n",
       "    }\n",
       "\n",
       "    .dataframe tbody tr th {\n",
       "        vertical-align: top;\n",
       "    }\n",
       "\n",
       "    .dataframe thead th {\n",
       "        text-align: right;\n",
       "    }\n",
       "</style>\n",
       "<table border=\"1\" class=\"dataframe\">\n",
       "  <thead>\n",
       "    <tr style=\"text-align: right;\">\n",
       "      <th></th>\n",
       "      <th>ID</th>\n",
       "      <th>gender</th>\n",
       "      <th>ownsCar</th>\n",
       "      <th>ownsRealty</th>\n",
       "      <th>numChildren</th>\n",
       "      <th>totalIncome</th>\n",
       "      <th>incomeType</th>\n",
       "      <th>EduLvl</th>\n",
       "      <th>famStatus</th>\n",
       "      <th>housingType</th>\n",
       "      <th>occupation</th>\n",
       "      <th>famSize</th>\n",
       "      <th>age</th>\n",
       "      <th>yrsEmpl</th>\n",
       "    </tr>\n",
       "  </thead>\n",
       "  <tbody>\n",
       "    <tr>\n",
       "      <th>2</th>\n",
       "      <td>5008806</td>\n",
       "      <td>M</td>\n",
       "      <td>Y</td>\n",
       "      <td>Y</td>\n",
       "      <td>0</td>\n",
       "      <td>112500.0</td>\n",
       "      <td>Working</td>\n",
       "      <td>Secondary / secondary special</td>\n",
       "      <td>Married</td>\n",
       "      <td>House / apartment</td>\n",
       "      <td>Security staff</td>\n",
       "      <td>2.0</td>\n",
       "      <td>59.0</td>\n",
       "      <td>3.104787</td>\n",
       "    </tr>\n",
       "    <tr>\n",
       "      <th>3</th>\n",
       "      <td>5008808</td>\n",
       "      <td>F</td>\n",
       "      <td>N</td>\n",
       "      <td>Y</td>\n",
       "      <td>0</td>\n",
       "      <td>270000.0</td>\n",
       "      <td>Commercial associate</td>\n",
       "      <td>Secondary / secondary special</td>\n",
       "      <td>Single / not married</td>\n",
       "      <td>House / apartment</td>\n",
       "      <td>Sales staff</td>\n",
       "      <td>1.0</td>\n",
       "      <td>53.0</td>\n",
       "      <td>8.353354</td>\n",
       "    </tr>\n",
       "    <tr>\n",
       "      <th>10</th>\n",
       "      <td>5008815</td>\n",
       "      <td>M</td>\n",
       "      <td>Y</td>\n",
       "      <td>Y</td>\n",
       "      <td>0</td>\n",
       "      <td>270000.0</td>\n",
       "      <td>Working</td>\n",
       "      <td>Higher education</td>\n",
       "      <td>Married</td>\n",
       "      <td>House / apartment</td>\n",
       "      <td>Accountants</td>\n",
       "      <td>2.0</td>\n",
       "      <td>47.0</td>\n",
       "      <td>2.105450</td>\n",
       "    </tr>\n",
       "    <tr>\n",
       "      <th>13</th>\n",
       "      <td>5008819</td>\n",
       "      <td>M</td>\n",
       "      <td>Y</td>\n",
       "      <td>Y</td>\n",
       "      <td>0</td>\n",
       "      <td>135000.0</td>\n",
       "      <td>Commercial associate</td>\n",
       "      <td>Secondary / secondary special</td>\n",
       "      <td>Married</td>\n",
       "      <td>House / apartment</td>\n",
       "      <td>Laborers</td>\n",
       "      <td>2.0</td>\n",
       "      <td>49.0</td>\n",
       "      <td>3.269061</td>\n",
       "    </tr>\n",
       "    <tr>\n",
       "      <th>19</th>\n",
       "      <td>5008825</td>\n",
       "      <td>F</td>\n",
       "      <td>Y</td>\n",
       "      <td>N</td>\n",
       "      <td>0</td>\n",
       "      <td>130500.0</td>\n",
       "      <td>Working</td>\n",
       "      <td>Incomplete higher</td>\n",
       "      <td>Married</td>\n",
       "      <td>House / apartment</td>\n",
       "      <td>Accountants</td>\n",
       "      <td>2.0</td>\n",
       "      <td>30.0</td>\n",
       "      <td>3.019911</td>\n",
       "    </tr>\n",
       "  </tbody>\n",
       "</table>\n",
       "</div>"
      ],
      "text/plain": [
       "         ID gender ownsCar ownsRealty  numChildren  totalIncome  \\\n",
       "2   5008806      M       Y          Y            0     112500.0   \n",
       "3   5008808      F       N          Y            0     270000.0   \n",
       "10  5008815      M       Y          Y            0     270000.0   \n",
       "13  5008819      M       Y          Y            0     135000.0   \n",
       "19  5008825      F       Y          N            0     130500.0   \n",
       "\n",
       "              incomeType                         EduLvl             famStatus  \\\n",
       "2                Working  Secondary / secondary special               Married   \n",
       "3   Commercial associate  Secondary / secondary special  Single / not married   \n",
       "10               Working               Higher education               Married   \n",
       "13  Commercial associate  Secondary / secondary special               Married   \n",
       "19               Working              Incomplete higher               Married   \n",
       "\n",
       "          housingType      occupation  famSize   age   yrsEmpl  \n",
       "2   House / apartment  Security staff      2.0  59.0  3.104787  \n",
       "3   House / apartment     Sales staff      1.0  53.0  8.353354  \n",
       "10  House / apartment     Accountants      2.0  47.0  2.105450  \n",
       "13  House / apartment        Laborers      2.0  49.0  3.269061  \n",
       "19  House / apartment     Accountants      2.0  30.0  3.019911  "
      ]
     },
     "execution_count": 15,
     "metadata": {},
     "output_type": "execute_result"
    }
   ],
   "source": [
    "applications3.head()"
   ]
  },
  {
   "cell_type": "code",
   "execution_count": 16,
   "id": "86a81e4b-b9f2-491e-84e5-cc53f0655f21",
   "metadata": {},
   "outputs": [
    {
     "name": "stdout",
     "output_type": "stream",
     "text": [
      "The lowest applicant income is 27000.0\n"
     ]
    }
   ],
   "source": [
    "# find income range represented in this data set\n",
    "minInc = applications3.totalIncome.min()\n",
    "print(\"The lowest applicant income is\" , minInc)"
   ]
  },
  {
   "cell_type": "code",
   "execution_count": 17,
   "id": "36206ec2-b534-4a48-8b01-358fffe0e4de",
   "metadata": {},
   "outputs": [
    {
     "name": "stdout",
     "output_type": "stream",
     "text": [
      "The maximum applicant income is 6750000.0\n"
     ]
    }
   ],
   "source": [
    "maxInc = applications3.totalIncome.max()\n",
    "print(\"The maximum applicant income is\" , maxInc)"
   ]
  },
  {
   "cell_type": "code",
   "execution_count": 18,
   "id": "f031482c-7d84-4e52-98db-392352f92bde",
   "metadata": {},
   "outputs": [
    {
     "data": {
      "text/plain": [
       "count    6.258200e+04\n",
       "mean     1.854914e+05\n",
       "std      1.075549e+05\n",
       "min      2.700000e+04\n",
       "25%      1.215000e+05\n",
       "50%      1.575000e+05\n",
       "75%      2.250000e+05\n",
       "max      6.750000e+06\n",
       "Name: totalIncome, dtype: float64"
      ]
     },
     "execution_count": 18,
     "metadata": {},
     "output_type": "execute_result"
    }
   ],
   "source": [
    "#total income with outliers\n",
    "applications3.totalIncome.describe()"
   ]
  },
  {
   "cell_type": "code",
   "execution_count": 19,
   "id": "7aa72cac-7759-4bf8-b8e7-7d698f9c2f4e",
   "metadata": {},
   "outputs": [
    {
     "data": {
      "text/plain": [
       "ID             0\n",
       "gender         0\n",
       "ownsCar        0\n",
       "ownsRealty     0\n",
       "numChildren    0\n",
       "totalIncome    0\n",
       "incomeType     0\n",
       "EduLvl         0\n",
       "famStatus      0\n",
       "housingType    0\n",
       "occupation     0\n",
       "famSize        0\n",
       "age            0\n",
       "yrsEmpl        0\n",
       "dtype: int64"
      ]
     },
     "execution_count": 19,
     "metadata": {},
     "output_type": "execute_result"
    }
   ],
   "source": [
    "applications3.isna().sum()"
   ]
  },
  {
   "cell_type": "code",
   "execution_count": 20,
   "id": "ea315c10-9243-411d-9f90-d642aabc9364",
   "metadata": {},
   "outputs": [
    {
     "data": {
      "text/plain": [
       "array(['Security staff', 'Sales staff', 'Accountants', 'Laborers',\n",
       "       'Managers', 'Drivers', 'Core staff', 'High skill tech staff',\n",
       "       'Cleaning staff', 'Private service staff', 'Cooking staff',\n",
       "       'Low-skill Laborers', 'Medicine staff', 'Secretaries',\n",
       "       'Waiters/barmen staff', 'HR staff', 'Realty agents', 'IT staff'],\n",
       "      dtype=object)"
      ]
     },
     "execution_count": 20,
     "metadata": {},
     "output_type": "execute_result"
    }
   ],
   "source": [
    "applications3['occupation'].unique()"
   ]
  },
  {
   "cell_type": "markdown",
   "id": "63eb771d-92ee-4dc3-b977-2672cd330eae",
   "metadata": {
    "tags": []
   },
   "source": [
    "### Data Visualization"
   ]
  },
  {
   "cell_type": "code",
   "execution_count": 21,
   "id": "4f0497e9-2b65-4e06-bb01-c0e31905a649",
   "metadata": {},
   "outputs": [
    {
     "data": {
      "text/plain": [
       "Text(0.5, 1.0, 'Applicant Income Dist')"
      ]
     },
     "execution_count": 21,
     "metadata": {},
     "output_type": "execute_result"
    },
    {
     "data": {
      "image/png": "[encoded data removed]",
      "text/plain": [
       "<Figure size 432x288 with 1 Axes>"
      ]
     },
     "metadata": {
      "needs_background": "light"
     },
     "output_type": "display_data"
    }
   ],
   "source": [
    "num_bins = 250\n",
    "n, bins, patches = plt.hist(applications3['totalIncome'], num_bins, facecolor='green', alpha = .8)\n",
    "plt.xlabel('Income')\n",
    "plt.ylabel('Frequency')\n",
    "plt.title('Applicant Income Dist')"
   ]
  },
  {
   "cell_type": "code",
   "execution_count": 22,
   "id": "0004b07f-3ba4-42db-b76f-790a9462c3b9",
   "metadata": {},
   "outputs": [
    {
     "data": {
      "text/plain": [
       "<AxesSubplot:>"
      ]
     },
     "execution_count": 22,
     "metadata": {},
     "output_type": "execute_result"
    },
    {
     "data": {
      "image/png": "[encoded data removed]",
      "text/plain": [
       "<Figure size 432x288 with 1 Axes>"
      ]
     },
     "metadata": {
      "needs_background": "light"
     },
     "output_type": "display_data"
    }
   ],
   "source": [
    "# Look for outliers\n",
    "applications3.boxplot('totalIncome')"
   ]
  },
  {
   "cell_type": "code",
   "execution_count": 23,
   "id": "02169f72-fa58-4ca0-9382-50a459e9a9a6",
   "metadata": {},
   "outputs": [
    {
     "data": {
      "text/plain": [
       "<AxesSubplot:>"
      ]
     },
     "execution_count": 23,
     "metadata": {},
     "output_type": "execute_result"
    },
    {
     "data": {
      "image/png": "[encoded data removed]",
      "text/plain": [
       "<Figure size 432x288 with 1 Axes>"
      ]
     },
     "metadata": {
      "needs_background": "light"
     },
     "output_type": "display_data"
    }
   ],
   "source": [
    "applications3.boxplot('numChildren')"
   ]
  },
  {
   "cell_type": "code",
   "execution_count": 24,
   "id": "c7f61121-692f-4623-884e-3e86e09c4bcf",
   "metadata": {},
   "outputs": [
    {
     "data": {
      "text/plain": [
       "<AxesSubplot:>"
      ]
     },
     "execution_count": 24,
     "metadata": {},
     "output_type": "execute_result"
    },
    {
     "data": {
      "image/png": "[encoded data removed]",
      "text/plain": [
       "<Figure size 432x288 with 1 Axes>"
      ]
     },
     "metadata": {
      "needs_background": "light"
     },
     "output_type": "display_data"
    }
   ],
   "source": [
    "applications3.boxplot('yrsEmpl')"
   ]
  },
  {
   "cell_type": "code",
   "execution_count": 25,
   "id": "b2664aca-ab0a-431d-8d39-9a8f3934110f",
   "metadata": {},
   "outputs": [
    {
     "data": {
      "text/plain": [
       "<AxesSubplot:>"
      ]
     },
     "execution_count": 25,
     "metadata": {},
     "output_type": "execute_result"
    },
    {
     "data": {
      "image/png": "[encoded data removed]",
      "text/plain": [
       "<Figure size 432x288 with 1 Axes>"
      ]
     },
     "metadata": {
      "needs_background": "light"
     },
     "output_type": "display_data"
    }
   ],
   "source": [
    "applications3.boxplot('famSize')"
   ]
  },
  {
   "cell_type": "code",
   "execution_count": 26,
   "id": "b0207d7d-5cbc-413e-b8c5-6370e8fff39a",
   "metadata": {},
   "outputs": [
    {
     "data": {
      "text/plain": [
       "Text(0.5, 1.0, 'Distribution of Applicant Age')"
      ]
     },
     "execution_count": 26,
     "metadata": {},
     "output_type": "execute_result"
    },
    {
     "data": {
      "image/png": "[encoded data removed]",
      "text/plain": [
       "<Figure size 432x288 with 1 Axes>"
      ]
     },
     "metadata": {
      "needs_background": "light"
     },
     "output_type": "display_data"
    }
   ],
   "source": [
    "num_bins = 10\n",
    "n, bins, patches = plt.hist(applications3['age'], num_bins, facecolor='green', alpha = .8)\n",
    "plt.xlabel('Age (Yrs)')\n",
    "plt.ylabel('Frequency')\n",
    "plt.title('Distribution of Applicant Age')"
   ]
  },
  {
   "cell_type": "code",
   "execution_count": 27,
   "id": "698c9c17-f878-4b7d-9745-2f7fb88ddf0f",
   "metadata": {},
   "outputs": [
    {
     "data": {
      "text/plain": [
       "<AxesSubplot:>"
      ]
     },
     "execution_count": 27,
     "metadata": {},
     "output_type": "execute_result"
    },
    {
     "data": {
      "image/png": "[encoded data removed]",
      "text/plain": [
       "<Figure size 432x288 with 2 Axes>"
      ]
     },
     "metadata": {
      "needs_background": "light"
     },
     "output_type": "display_data"
    }
   ],
   "source": [
    "# Correlation matrix\n",
    "sns.heatmap(applications3.corr(), annot=True)"
   ]
  },
  {
   "cell_type": "markdown",
   "id": "510ea641-578d-4d52-87a7-c906b5c14d86",
   "metadata": {},
   "source": [
    "#### Categorical Variable Distributions"
   ]
  },
  {
   "cell_type": "code",
   "execution_count": 28,
   "id": "e585ef04-7751-4705-b9b4-255c66d329e1",
   "metadata": {},
   "outputs": [
    {
     "data": {
      "image/png": "[encoded data removed]",
      "text/plain": [
       "<Figure size 720x360 with 2 Axes>"
      ]
     },
     "metadata": {},
     "output_type": "display_data"
    }
   ],
   "source": [
    "fig, axes = plt.subplots(1,2)\n",
    "g1 = applications3.groupby('gender')['gender'].count().plot(kind='pie', y='gender', ax=axes[0])\n",
    "g2 = applications3.groupby('ownsCar')['ownsCar'].count().plot(kind='pie', y='ownsCar', ax=axes[1])\n",
    "\n",
    "fig.set_size_inches(10,5)\n",
    "\n",
    "plt.tight_layout()"
   ]
  },
  {
   "cell_type": "code",
   "execution_count": 29,
   "id": "5788fd47-071e-4772-b76b-0b6c228c602f",
   "metadata": {},
   "outputs": [
    {
     "data": {
      "image/png": "[encoded data removed]",
      "text/plain": [
       "<Figure size 432x288 with 1 Axes>"
      ]
     },
     "metadata": {},
     "output_type": "display_data"
    }
   ],
   "source": [
    "g3 = applications3.groupby('ownsRealty')['ownsRealty'].count().plot(kind='pie', y='ownsRealty')"
   ]
  },
  {
   "cell_type": "code",
   "execution_count": 30,
   "id": "a8950dc7-5741-4b99-814d-16942a39cb09",
   "metadata": {},
   "outputs": [
    {
     "data": {
      "image/png": "[encoded data removed]",
      "text/plain": [
       "<Figure size 1080x360 with 2 Axes>"
      ]
     },
     "metadata": {
      "needs_background": "light"
     },
     "output_type": "display_data"
    }
   ],
   "source": [
    "# Income type, family status distributions\n",
    "\n",
    "fig, axes = plt.subplots(1,2)\n",
    "\n",
    "incTDist=sns.countplot(y=applications3.incomeType,linewidth=1.2, ax=axes[0])\n",
    "incTDist.set_title(\"Applicant Distribution by Income Type\")\n",
    "incTDist.set_xlabel(\"Count\")\n",
    "\n",
    "famDist=sns.countplot(y=applications3.famStatus,linewidth=1.2, ax=axes[1])\n",
    "famDist.set_title(\"Applicant Distribution by Family Status\")\n",
    "famDist.set_xlabel(\"Count\")\n",
    "\n",
    "fig.set_size_inches(15,5)\n",
    "\n",
    "plt.tight_layout()"
   ]
  },
  {
   "cell_type": "code",
   "execution_count": 31,
   "id": "4c4d6e32-ce86-4d66-a4af-037c034ec19c",
   "metadata": {},
   "outputs": [
    {
     "data": {
      "image/png": "[encoded data removed]",
      "text/plain": [
       "<Figure size 1080x360 with 2 Axes>"
      ]
     },
     "metadata": {
      "needs_background": "light"
     },
     "output_type": "display_data"
    }
   ],
   "source": [
    "# education type, housing type\n",
    "\n",
    "fig, axes = plt.subplots(1,2)\n",
    "\n",
    "eduTDist=sns.countplot(y=applications3.EduLvl,linewidth=1.2, ax=axes[0])\n",
    "eduTDist.set_title(\"Applicant Distribution by Education Level\")\n",
    "eduTDist.set_xlabel(\"Count\")\n",
    "\n",
    "houDist=sns.countplot(y=applications3.housingType,linewidth=1.2, ax=axes[1])\n",
    "houDist.set_title(\"Applicant Distribution by Housing Type\")\n",
    "houDist.set_xlabel(\"Count\")\n",
    "\n",
    "fig.set_size_inches(15,5)\n",
    "\n",
    "plt.tight_layout()"
   ]
  },
  {
   "cell_type": "code",
   "execution_count": 32,
   "id": "044f6d22-c863-4ca1-9c8b-7e3cac1f8e25",
   "metadata": {},
   "outputs": [
    {
     "data": {
      "image/png": "[encoded data removed]",
      "text/plain": [
       "<Figure size 432x288 with 1 Axes>"
      ]
     },
     "metadata": {
      "needs_background": "light"
     },
     "output_type": "display_data"
    }
   ],
   "source": [
    "# dist by occupation\n",
    "occuDist=sns.countplot(y=applications3.occupation,linewidth=1.2)\n",
    "occuDist.set_title(\"Applicant Distribution by Occupation\")\n",
    "occuDist.set_xlabel(\"Count\")\n",
    "\n",
    "fig.set_size_inches(5,5)\n",
    "\n",
    "plt.show()"
   ]
  },
  {
   "cell_type": "code",
   "execution_count": 35,
   "id": "579182f9-87ad-46fd-ac7e-b5e66d5bf15c",
   "metadata": {},
   "outputs": [
    {
     "name": "stderr",
     "output_type": "stream",
     "text": [
      "C:\\Users\\dez_g\\AppData\\Local\\Temp\\ipykernel_19336\\997865412.py:3: SettingWithCopyWarning: \n",
      "A value is trying to be set on a copy of a slice from a DataFrame.\n",
      "Try using .loc[row_indexer,col_indexer] = value instead\n",
      "\n",
      "See the caveats in the documentation: https://pandas.pydata.org/pandas-docs/stable/user_guide/indexing.html#returning-a-view-versus-a-copy\n",
      "  applications3.totalIncome = applications3.totalIncome.astype(int)\n"
     ]
    }
   ],
   "source": [
    "# convert floats to integers\n",
    "\n",
    "applications3.totalIncome = applications3.totalIncome.astype(int)\n"
   ]
  },
  {
   "cell_type": "code",
   "execution_count": 36,
   "id": "81124fea-ac22-4f9d-9a06-e4406f142df0",
   "metadata": {},
   "outputs": [
    {
     "name": "stderr",
     "output_type": "stream",
     "text": [
      "C:\\Users\\dez_g\\AppData\\Local\\Temp\\ipykernel_19336\\2651461775.py:1: SettingWithCopyWarning: \n",
      "A value is trying to be set on a copy of a slice from a DataFrame.\n",
      "Try using .loc[row_indexer,col_indexer] = value instead\n",
      "\n",
      "See the caveats in the documentation: https://pandas.pydata.org/pandas-docs/stable/user_guide/indexing.html#returning-a-view-versus-a-copy\n",
      "  applications3.age = applications3.age.astype(int)\n",
      "C:\\Users\\dez_g\\AppData\\Local\\Temp\\ipykernel_19336\\2651461775.py:2: SettingWithCopyWarning: \n",
      "A value is trying to be set on a copy of a slice from a DataFrame.\n",
      "Try using .loc[row_indexer,col_indexer] = value instead\n",
      "\n",
      "See the caveats in the documentation: https://pandas.pydata.org/pandas-docs/stable/user_guide/indexing.html#returning-a-view-versus-a-copy\n",
      "  applications3.famSize = applications3.famSize.astype(int)\n",
      "C:\\Users\\dez_g\\AppData\\Local\\Temp\\ipykernel_19336\\2651461775.py:3: SettingWithCopyWarning: \n",
      "A value is trying to be set on a copy of a slice from a DataFrame.\n",
      "Try using .loc[row_indexer,col_indexer] = value instead\n",
      "\n",
      "See the caveats in the documentation: https://pandas.pydata.org/pandas-docs/stable/user_guide/indexing.html#returning-a-view-versus-a-copy\n",
      "  applications3.yrsEmpl = applications3.yrsEmpl.astype(int)\n"
     ]
    }
   ],
   "source": [
    "applications3.age = applications3.age.astype(int)\n",
    "applications3.famSize = applications3.famSize.astype(int)\n",
    "applications3.yrsEmpl = applications3.yrsEmpl.astype(int)"
   ]
  },
  {
   "cell_type": "code",
   "execution_count": 37,
   "id": "b05b9d67-f40d-4bb5-9e22-353d19264721",
   "metadata": {},
   "outputs": [
    {
     "data": {
      "text/html": [
       "<div>\n",
       "<style scoped>\n",
       "    .dataframe tbody tr th:only-of-type {\n",
       "        vertical-align: middle;\n",
       "    }\n",
       "\n",
       "    .dataframe tbody tr th {\n",
       "        vertical-align: top;\n",
       "    }\n",
       "\n",
       "    .dataframe thead th {\n",
       "        text-align: right;\n",
       "    }\n",
       "</style>\n",
       "<table border=\"1\" class=\"dataframe\">\n",
       "  <thead>\n",
       "    <tr style=\"text-align: right;\">\n",
       "      <th></th>\n",
       "      <th>ID</th>\n",
       "      <th>gender</th>\n",
       "      <th>ownsCar</th>\n",
       "      <th>ownsRealty</th>\n",
       "      <th>numChildren</th>\n",
       "      <th>totalIncome</th>\n",
       "      <th>incomeType</th>\n",
       "      <th>EduLvl</th>\n",
       "      <th>famStatus</th>\n",
       "      <th>housingType</th>\n",
       "      <th>occupation</th>\n",
       "      <th>famSize</th>\n",
       "      <th>age</th>\n",
       "      <th>yrsEmpl</th>\n",
       "    </tr>\n",
       "  </thead>\n",
       "  <tbody>\n",
       "    <tr>\n",
       "      <th>2</th>\n",
       "      <td>5008806</td>\n",
       "      <td>M</td>\n",
       "      <td>Y</td>\n",
       "      <td>Y</td>\n",
       "      <td>0</td>\n",
       "      <td>112500</td>\n",
       "      <td>Working</td>\n",
       "      <td>Secondary / secondary special</td>\n",
       "      <td>Married</td>\n",
       "      <td>House / apartment</td>\n",
       "      <td>Security staff</td>\n",
       "      <td>2</td>\n",
       "      <td>59</td>\n",
       "      <td>3</td>\n",
       "    </tr>\n",
       "    <tr>\n",
       "      <th>3</th>\n",
       "      <td>5008808</td>\n",
       "      <td>F</td>\n",
       "      <td>N</td>\n",
       "      <td>Y</td>\n",
       "      <td>0</td>\n",
       "      <td>270000</td>\n",
       "      <td>Commercial associate</td>\n",
       "      <td>Secondary / secondary special</td>\n",
       "      <td>Single / not married</td>\n",
       "      <td>House / apartment</td>\n",
       "      <td>Sales staff</td>\n",
       "      <td>1</td>\n",
       "      <td>53</td>\n",
       "      <td>8</td>\n",
       "    </tr>\n",
       "    <tr>\n",
       "      <th>10</th>\n",
       "      <td>5008815</td>\n",
       "      <td>M</td>\n",
       "      <td>Y</td>\n",
       "      <td>Y</td>\n",
       "      <td>0</td>\n",
       "      <td>270000</td>\n",
       "      <td>Working</td>\n",
       "      <td>Higher education</td>\n",
       "      <td>Married</td>\n",
       "      <td>House / apartment</td>\n",
       "      <td>Accountants</td>\n",
       "      <td>2</td>\n",
       "      <td>47</td>\n",
       "      <td>2</td>\n",
       "    </tr>\n",
       "    <tr>\n",
       "      <th>13</th>\n",
       "      <td>5008819</td>\n",
       "      <td>M</td>\n",
       "      <td>Y</td>\n",
       "      <td>Y</td>\n",
       "      <td>0</td>\n",
       "      <td>135000</td>\n",
       "      <td>Commercial associate</td>\n",
       "      <td>Secondary / secondary special</td>\n",
       "      <td>Married</td>\n",
       "      <td>House / apartment</td>\n",
       "      <td>Laborers</td>\n",
       "      <td>2</td>\n",
       "      <td>49</td>\n",
       "      <td>3</td>\n",
       "    </tr>\n",
       "    <tr>\n",
       "      <th>19</th>\n",
       "      <td>5008825</td>\n",
       "      <td>F</td>\n",
       "      <td>Y</td>\n",
       "      <td>N</td>\n",
       "      <td>0</td>\n",
       "      <td>130500</td>\n",
       "      <td>Working</td>\n",
       "      <td>Incomplete higher</td>\n",
       "      <td>Married</td>\n",
       "      <td>House / apartment</td>\n",
       "      <td>Accountants</td>\n",
       "      <td>2</td>\n",
       "      <td>30</td>\n",
       "      <td>3</td>\n",
       "    </tr>\n",
       "  </tbody>\n",
       "</table>\n",
       "</div>"
      ],
      "text/plain": [
       "         ID gender ownsCar ownsRealty  numChildren  totalIncome  \\\n",
       "2   5008806      M       Y          Y            0       112500   \n",
       "3   5008808      F       N          Y            0       270000   \n",
       "10  5008815      M       Y          Y            0       270000   \n",
       "13  5008819      M       Y          Y            0       135000   \n",
       "19  5008825      F       Y          N            0       130500   \n",
       "\n",
       "              incomeType                         EduLvl             famStatus  \\\n",
       "2                Working  Secondary / secondary special               Married   \n",
       "3   Commercial associate  Secondary / secondary special  Single / not married   \n",
       "10               Working               Higher education               Married   \n",
       "13  Commercial associate  Secondary / secondary special               Married   \n",
       "19               Working              Incomplete higher               Married   \n",
       "\n",
       "          housingType      occupation  famSize  age  yrsEmpl  \n",
       "2   House / apartment  Security staff        2   59        3  \n",
       "3   House / apartment     Sales staff        1   53        8  \n",
       "10  House / apartment     Accountants        2   47        2  \n",
       "13  House / apartment        Laborers        2   49        3  \n",
       "19  House / apartment     Accountants        2   30        3  "
      ]
     },
     "execution_count": 37,
     "metadata": {},
     "output_type": "execute_result"
    }
   ],
   "source": [
    "applications3.head()"
   ]
  },
  {
   "cell_type": "code",
   "execution_count": 34,
   "id": "6cab911a-b34a-4f5e-b916-7d83c6fe3c9d",
   "metadata": {},
   "outputs": [
    {
     "data": {
      "text/plain": [
       "F    37711\n",
       "M    24871\n",
       "Name: gender, dtype: int64"
      ]
     },
     "execution_count": 34,
     "metadata": {},
     "output_type": "execute_result"
    }
   ],
   "source": [
    "applications3.gender.value_counts()"
   ]
  },
  {
   "cell_type": "code",
   "execution_count": 35,
   "id": "73fd7a02-1182-4ef2-8474-d8e45cf56058",
   "metadata": {},
   "outputs": [
    {
     "data": {
      "text/plain": [
       "N    37339\n",
       "Y    25243\n",
       "Name: ownsCar, dtype: int64"
      ]
     },
     "execution_count": 35,
     "metadata": {},
     "output_type": "execute_result"
    }
   ],
   "source": [
    "applications3.ownsCar.value_counts()"
   ]
  },
  {
   "cell_type": "code",
   "execution_count": 36,
   "id": "5962b667-9c4e-40fd-b83d-ded99c533a5a",
   "metadata": {},
   "outputs": [
    {
     "data": {
      "text/plain": [
       "Y    42395\n",
       "N    20187\n",
       "Name: ownsRealty, dtype: int64"
      ]
     },
     "execution_count": 36,
     "metadata": {},
     "output_type": "execute_result"
    }
   ],
   "source": [
    "applications3.ownsRealty.value_counts()"
   ]
  },
  {
   "cell_type": "code",
   "execution_count": 38,
   "id": "8e9edbc3-67b5-4752-86dc-7ac18a7aedaf",
   "metadata": {},
   "outputs": [
    {
     "name": "stderr",
     "output_type": "stream",
     "text": [
      "C:\\Users\\dez_g\\AppData\\Local\\Temp\\ipykernel_19336\\2880319282.py:8: SettingWithCopyWarning: \n",
      "A value is trying to be set on a copy of a slice from a DataFrame.\n",
      "Try using .loc[row_indexer,col_indexer] = value instead\n",
      "\n",
      "See the caveats in the documentation: https://pandas.pydata.org/pandas-docs/stable/user_guide/indexing.html#returning-a-view-versus-a-copy\n",
      "  applications3['genderR'] = applications3['gender'].apply(genderRecode)\n"
     ]
    }
   ],
   "source": [
    "# dummy code binary variables\n",
    "\n",
    "def genderRecode (series):\n",
    "    if series == \"F\":\n",
    "        return 0\n",
    "    if series == \"M\":\n",
    "        return 1\n",
    "applications3['genderR'] = applications3['gender'].apply(genderRecode)\n"
   ]
  },
  {
   "cell_type": "code",
   "execution_count": 39,
   "id": "9daf11c1-2b98-495b-8183-d627c17be393",
   "metadata": {},
   "outputs": [
    {
     "name": "stderr",
     "output_type": "stream",
     "text": [
      "C:\\Users\\dez_g\\AppData\\Local\\Temp\\ipykernel_19336\\534455497.py:6: SettingWithCopyWarning: \n",
      "A value is trying to be set on a copy of a slice from a DataFrame.\n",
      "Try using .loc[row_indexer,col_indexer] = value instead\n",
      "\n",
      "See the caveats in the documentation: https://pandas.pydata.org/pandas-docs/stable/user_guide/indexing.html#returning-a-view-versus-a-copy\n",
      "  applications3['ownsCarR'] = applications3['ownsCar'].apply(carRecode)\n"
     ]
    }
   ],
   "source": [
    "\n",
    "def carRecode (series):\n",
    "    if series == \"N\":\n",
    "        return 0\n",
    "    if series == \"Y\":\n",
    "        return 1\n",
    "applications3['ownsCarR'] = applications3['ownsCar'].apply(carRecode)\n"
   ]
  },
  {
   "cell_type": "code",
   "execution_count": 41,
   "id": "4ffada38-434a-453d-bf88-94f7e81ce55f",
   "metadata": {},
   "outputs": [
    {
     "name": "stderr",
     "output_type": "stream",
     "text": [
      "C:\\Users\\dez_g\\AppData\\Local\\Temp\\ipykernel_19336\\3082916272.py:6: SettingWithCopyWarning: \n",
      "A value is trying to be set on a copy of a slice from a DataFrame.\n",
      "Try using .loc[row_indexer,col_indexer] = value instead\n",
      "\n",
      "See the caveats in the documentation: https://pandas.pydata.org/pandas-docs/stable/user_guide/indexing.html#returning-a-view-versus-a-copy\n",
      "  applications3['ownsRealtyR'] = applications3['ownsRealty'].apply(realtyRecode)\n"
     ]
    }
   ],
   "source": [
    "\n",
    "def realtyRecode (series):\n",
    "    if series == \"N\":\n",
    "        return 0\n",
    "    if series == \"Y\":\n",
    "        return 1\n",
    "applications3['ownsRealtyR'] = applications3['ownsRealty'].apply(realtyRecode)\n"
   ]
  },
  {
   "cell_type": "code",
   "execution_count": 42,
   "id": "823b6b8e-dce5-44b5-8e4e-c687d6973649",
   "metadata": {},
   "outputs": [
    {
     "data": {
      "text/html": [
       "<div>\n",
       "<style scoped>\n",
       "    .dataframe tbody tr th:only-of-type {\n",
       "        vertical-align: middle;\n",
       "    }\n",
       "\n",
       "    .dataframe tbody tr th {\n",
       "        vertical-align: top;\n",
       "    }\n",
       "\n",
       "    .dataframe thead th {\n",
       "        text-align: right;\n",
       "    }\n",
       "</style>\n",
       "<table border=\"1\" class=\"dataframe\">\n",
       "  <thead>\n",
       "    <tr style=\"text-align: right;\">\n",
       "      <th></th>\n",
       "      <th>ID</th>\n",
       "      <th>gender</th>\n",
       "      <th>ownsCar</th>\n",
       "      <th>ownsRealty</th>\n",
       "      <th>numChildren</th>\n",
       "      <th>totalIncome</th>\n",
       "      <th>incomeType</th>\n",
       "      <th>EduLvl</th>\n",
       "      <th>famStatus</th>\n",
       "      <th>housingType</th>\n",
       "      <th>occupation</th>\n",
       "      <th>famSize</th>\n",
       "      <th>age</th>\n",
       "      <th>yrsEmpl</th>\n",
       "      <th>genderR</th>\n",
       "      <th>ownsCarR</th>\n",
       "      <th>ownsRealtyR</th>\n",
       "    </tr>\n",
       "  </thead>\n",
       "  <tbody>\n",
       "    <tr>\n",
       "      <th>2</th>\n",
       "      <td>5008806</td>\n",
       "      <td>M</td>\n",
       "      <td>Y</td>\n",
       "      <td>Y</td>\n",
       "      <td>0</td>\n",
       "      <td>112500</td>\n",
       "      <td>Working</td>\n",
       "      <td>Secondary / secondary special</td>\n",
       "      <td>Married</td>\n",
       "      <td>House / apartment</td>\n",
       "      <td>Security staff</td>\n",
       "      <td>2</td>\n",
       "      <td>59</td>\n",
       "      <td>3</td>\n",
       "      <td>1</td>\n",
       "      <td>1</td>\n",
       "      <td>1</td>\n",
       "    </tr>\n",
       "    <tr>\n",
       "      <th>3</th>\n",
       "      <td>5008808</td>\n",
       "      <td>F</td>\n",
       "      <td>N</td>\n",
       "      <td>Y</td>\n",
       "      <td>0</td>\n",
       "      <td>270000</td>\n",
       "      <td>Commercial associate</td>\n",
       "      <td>Secondary / secondary special</td>\n",
       "      <td>Single / not married</td>\n",
       "      <td>House / apartment</td>\n",
       "      <td>Sales staff</td>\n",
       "      <td>1</td>\n",
       "      <td>53</td>\n",
       "      <td>8</td>\n",
       "      <td>0</td>\n",
       "      <td>0</td>\n",
       "      <td>1</td>\n",
       "    </tr>\n",
       "    <tr>\n",
       "      <th>10</th>\n",
       "      <td>5008815</td>\n",
       "      <td>M</td>\n",
       "      <td>Y</td>\n",
       "      <td>Y</td>\n",
       "      <td>0</td>\n",
       "      <td>270000</td>\n",
       "      <td>Working</td>\n",
       "      <td>Higher education</td>\n",
       "      <td>Married</td>\n",
       "      <td>House / apartment</td>\n",
       "      <td>Accountants</td>\n",
       "      <td>2</td>\n",
       "      <td>47</td>\n",
       "      <td>2</td>\n",
       "      <td>1</td>\n",
       "      <td>1</td>\n",
       "      <td>1</td>\n",
       "    </tr>\n",
       "    <tr>\n",
       "      <th>13</th>\n",
       "      <td>5008819</td>\n",
       "      <td>M</td>\n",
       "      <td>Y</td>\n",
       "      <td>Y</td>\n",
       "      <td>0</td>\n",
       "      <td>135000</td>\n",
       "      <td>Commercial associate</td>\n",
       "      <td>Secondary / secondary special</td>\n",
       "      <td>Married</td>\n",
       "      <td>House / apartment</td>\n",
       "      <td>Laborers</td>\n",
       "      <td>2</td>\n",
       "      <td>49</td>\n",
       "      <td>3</td>\n",
       "      <td>1</td>\n",
       "      <td>1</td>\n",
       "      <td>1</td>\n",
       "    </tr>\n",
       "    <tr>\n",
       "      <th>19</th>\n",
       "      <td>5008825</td>\n",
       "      <td>F</td>\n",
       "      <td>Y</td>\n",
       "      <td>N</td>\n",
       "      <td>0</td>\n",
       "      <td>130500</td>\n",
       "      <td>Working</td>\n",
       "      <td>Incomplete higher</td>\n",
       "      <td>Married</td>\n",
       "      <td>House / apartment</td>\n",
       "      <td>Accountants</td>\n",
       "      <td>2</td>\n",
       "      <td>30</td>\n",
       "      <td>3</td>\n",
       "      <td>0</td>\n",
       "      <td>1</td>\n",
       "      <td>0</td>\n",
       "    </tr>\n",
       "  </tbody>\n",
       "</table>\n",
       "</div>"
      ],
      "text/plain": [
       "         ID gender ownsCar ownsRealty  numChildren  totalIncome  \\\n",
       "2   5008806      M       Y          Y            0       112500   \n",
       "3   5008808      F       N          Y            0       270000   \n",
       "10  5008815      M       Y          Y            0       270000   \n",
       "13  5008819      M       Y          Y            0       135000   \n",
       "19  5008825      F       Y          N            0       130500   \n",
       "\n",
       "              incomeType                         EduLvl             famStatus  \\\n",
       "2                Working  Secondary / secondary special               Married   \n",
       "3   Commercial associate  Secondary / secondary special  Single / not married   \n",
       "10               Working               Higher education               Married   \n",
       "13  Commercial associate  Secondary / secondary special               Married   \n",
       "19               Working              Incomplete higher               Married   \n",
       "\n",
       "          housingType      occupation  famSize  age  yrsEmpl  genderR  \\\n",
       "2   House / apartment  Security staff        2   59        3        1   \n",
       "3   House / apartment     Sales staff        1   53        8        0   \n",
       "10  House / apartment     Accountants        2   47        2        1   \n",
       "13  House / apartment        Laborers        2   49        3        1   \n",
       "19  House / apartment     Accountants        2   30        3        0   \n",
       "\n",
       "    ownsCarR  ownsRealtyR  \n",
       "2          1            1  \n",
       "3          0            1  \n",
       "10         1            1  \n",
       "13         1            1  \n",
       "19         1            0  "
      ]
     },
     "execution_count": 42,
     "metadata": {},
     "output_type": "execute_result"
    }
   ],
   "source": [
    "applications3.head()"
   ]
  },
  {
   "cell_type": "code",
   "execution_count": 40,
   "id": "5426288d-18c4-44dd-84c5-1e826e404038",
   "metadata": {},
   "outputs": [],
   "source": [
    "# merge the data sets (found that by merging, several data points were created for the same ID depending\n",
    "# on months balance; use for predictions only, not vintage analysis\n",
    "merged = pd.merge(applications3, records, on=\"ID\")"
   ]
  },
  {
   "cell_type": "code",
   "execution_count": 41,
   "id": "00e4634f-1911-4abd-b916-1ac2de08e7e2",
   "metadata": {},
   "outputs": [
    {
     "data": {
      "text/html": [
       "<div>\n",
       "<style scoped>\n",
       "    .dataframe tbody tr th:only-of-type {\n",
       "        vertical-align: middle;\n",
       "    }\n",
       "\n",
       "    .dataframe tbody tr th {\n",
       "        vertical-align: top;\n",
       "    }\n",
       "\n",
       "    .dataframe thead th {\n",
       "        text-align: right;\n",
       "    }\n",
       "</style>\n",
       "<table border=\"1\" class=\"dataframe\">\n",
       "  <thead>\n",
       "    <tr style=\"text-align: right;\">\n",
       "      <th></th>\n",
       "      <th>ID</th>\n",
       "      <th>gender</th>\n",
       "      <th>ownsCar</th>\n",
       "      <th>ownsRealty</th>\n",
       "      <th>numChildren</th>\n",
       "      <th>totalIncome</th>\n",
       "      <th>incomeType</th>\n",
       "      <th>EduLvl</th>\n",
       "      <th>famStatus</th>\n",
       "      <th>housingType</th>\n",
       "      <th>occupation</th>\n",
       "      <th>famSize</th>\n",
       "      <th>age</th>\n",
       "      <th>yrsEmpl</th>\n",
       "      <th>genderR</th>\n",
       "      <th>ownsCarR</th>\n",
       "      <th>ownsRealtyR</th>\n",
       "      <th>MONTHS_BALANCE</th>\n",
       "      <th>STATUS</th>\n",
       "    </tr>\n",
       "  </thead>\n",
       "  <tbody>\n",
       "    <tr>\n",
       "      <th>0</th>\n",
       "      <td>5008806</td>\n",
       "      <td>M</td>\n",
       "      <td>Y</td>\n",
       "      <td>Y</td>\n",
       "      <td>0</td>\n",
       "      <td>112500</td>\n",
       "      <td>Working</td>\n",
       "      <td>Secondary / secondary special</td>\n",
       "      <td>Married</td>\n",
       "      <td>House / apartment</td>\n",
       "      <td>Security staff</td>\n",
       "      <td>2</td>\n",
       "      <td>59</td>\n",
       "      <td>3</td>\n",
       "      <td>1</td>\n",
       "      <td>1</td>\n",
       "      <td>1</td>\n",
       "      <td>0</td>\n",
       "      <td>C</td>\n",
       "    </tr>\n",
       "    <tr>\n",
       "      <th>1</th>\n",
       "      <td>5008806</td>\n",
       "      <td>M</td>\n",
       "      <td>Y</td>\n",
       "      <td>Y</td>\n",
       "      <td>0</td>\n",
       "      <td>112500</td>\n",
       "      <td>Working</td>\n",
       "      <td>Secondary / secondary special</td>\n",
       "      <td>Married</td>\n",
       "      <td>House / apartment</td>\n",
       "      <td>Security staff</td>\n",
       "      <td>2</td>\n",
       "      <td>59</td>\n",
       "      <td>3</td>\n",
       "      <td>1</td>\n",
       "      <td>1</td>\n",
       "      <td>1</td>\n",
       "      <td>-1</td>\n",
       "      <td>C</td>\n",
       "    </tr>\n",
       "    <tr>\n",
       "      <th>2</th>\n",
       "      <td>5008806</td>\n",
       "      <td>M</td>\n",
       "      <td>Y</td>\n",
       "      <td>Y</td>\n",
       "      <td>0</td>\n",
       "      <td>112500</td>\n",
       "      <td>Working</td>\n",
       "      <td>Secondary / secondary special</td>\n",
       "      <td>Married</td>\n",
       "      <td>House / apartment</td>\n",
       "      <td>Security staff</td>\n",
       "      <td>2</td>\n",
       "      <td>59</td>\n",
       "      <td>3</td>\n",
       "      <td>1</td>\n",
       "      <td>1</td>\n",
       "      <td>1</td>\n",
       "      <td>-2</td>\n",
       "      <td>C</td>\n",
       "    </tr>\n",
       "    <tr>\n",
       "      <th>3</th>\n",
       "      <td>5008806</td>\n",
       "      <td>M</td>\n",
       "      <td>Y</td>\n",
       "      <td>Y</td>\n",
       "      <td>0</td>\n",
       "      <td>112500</td>\n",
       "      <td>Working</td>\n",
       "      <td>Secondary / secondary special</td>\n",
       "      <td>Married</td>\n",
       "      <td>House / apartment</td>\n",
       "      <td>Security staff</td>\n",
       "      <td>2</td>\n",
       "      <td>59</td>\n",
       "      <td>3</td>\n",
       "      <td>1</td>\n",
       "      <td>1</td>\n",
       "      <td>1</td>\n",
       "      <td>-3</td>\n",
       "      <td>C</td>\n",
       "    </tr>\n",
       "    <tr>\n",
       "      <th>4</th>\n",
       "      <td>5008806</td>\n",
       "      <td>M</td>\n",
       "      <td>Y</td>\n",
       "      <td>Y</td>\n",
       "      <td>0</td>\n",
       "      <td>112500</td>\n",
       "      <td>Working</td>\n",
       "      <td>Secondary / secondary special</td>\n",
       "      <td>Married</td>\n",
       "      <td>House / apartment</td>\n",
       "      <td>Security staff</td>\n",
       "      <td>2</td>\n",
       "      <td>59</td>\n",
       "      <td>3</td>\n",
       "      <td>1</td>\n",
       "      <td>1</td>\n",
       "      <td>1</td>\n",
       "      <td>-4</td>\n",
       "      <td>C</td>\n",
       "    </tr>\n",
       "  </tbody>\n",
       "</table>\n",
       "</div>"
      ],
      "text/plain": [
       "        ID gender ownsCar ownsRealty  numChildren  totalIncome incomeType  \\\n",
       "0  5008806      M       Y          Y            0       112500    Working   \n",
       "1  5008806      M       Y          Y            0       112500    Working   \n",
       "2  5008806      M       Y          Y            0       112500    Working   \n",
       "3  5008806      M       Y          Y            0       112500    Working   \n",
       "4  5008806      M       Y          Y            0       112500    Working   \n",
       "\n",
       "                          EduLvl famStatus        housingType      occupation  \\\n",
       "0  Secondary / secondary special   Married  House / apartment  Security staff   \n",
       "1  Secondary / secondary special   Married  House / apartment  Security staff   \n",
       "2  Secondary / secondary special   Married  House / apartment  Security staff   \n",
       "3  Secondary / secondary special   Married  House / apartment  Security staff   \n",
       "4  Secondary / secondary special   Married  House / apartment  Security staff   \n",
       "\n",
       "   famSize  age  yrsEmpl  genderR  ownsCarR  ownsRealtyR  MONTHS_BALANCE  \\\n",
       "0        2   59        3        1         1            1               0   \n",
       "1        2   59        3        1         1            1              -1   \n",
       "2        2   59        3        1         1            1              -2   \n",
       "3        2   59        3        1         1            1              -3   \n",
       "4        2   59        3        1         1            1              -4   \n",
       "\n",
       "  STATUS  \n",
       "0      C  \n",
       "1      C  \n",
       "2      C  \n",
       "3      C  \n",
       "4      C  "
      ]
     },
     "execution_count": 41,
     "metadata": {},
     "output_type": "execute_result"
    }
   ],
   "source": [
    "merged.head()"
   ]
  },
  {
   "cell_type": "code",
   "execution_count": null,
   "id": "e3dc554e-a203-4bde-98af-4119afa5b4f0",
   "metadata": {},
   "outputs": [],
   "source": [
    "# drop duplicates\n",
    "merged=merged.drop_duplicates(subset=merged.columns[1:], keep='first')"
   ]
  },
  {
   "cell_type": "code",
   "execution_count": 1,
   "id": "36f1b88f-c617-48f2-aa6d-fc1e96886148",
   "metadata": {},
   "outputs": [
    {
     "ename": "NameError",
     "evalue": "name 'merged' is not defined",
     "output_type": "error",
     "traceback": [
      "\u001b[1;31m---------------------------------------------------------------------------\u001b[0m",
      "\u001b[1;31mNameError\u001b[0m                                 Traceback (most recent call last)",
      "Input \u001b[1;32mIn [1]\u001b[0m, in \u001b[0;36m<module>\u001b[1;34m\u001b[0m\n\u001b[1;32m----> 1\u001b[0m \u001b[43mmerged\u001b[49m\u001b[38;5;241m.\u001b[39mhead()\n",
      "\u001b[1;31mNameError\u001b[0m: name 'merged' is not defined"
     ]
    }
   ],
   "source": [
    "merged.head()"
   ]
  },
  {
   "cell_type": "code",
   "execution_count": null,
   "id": "fac2b65a-1b67-4332-b822-a49e439a5692",
   "metadata": {},
   "outputs": [],
   "source": []
  }
 ],
 "metadata": {
  "kernelspec": {
   "display_name": "Python 3 (ipykernel)",
   "language": "python",
   "name": "python3"
  },
  "language_info": {
   "codemirror_mode": {
    "name": "ipython",
    "version": 3
   },
   "file_extension": ".py",
   "mimetype": "text/x-python",
   "name": "python",
   "nbconvert_exporter": "python",
   "pygments_lexer": "ipython3",
   "version": "3.10.4"
  }
 },
 "nbformat": 4,
 "nbformat_minor": 5
}
