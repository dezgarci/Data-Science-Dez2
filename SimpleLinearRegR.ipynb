{
 "cells": [
  {
   "cell_type": "code",
   "execution_count": 1,
   "id": "e9345feb-490a-4ea8-823c-ad9221a2bfca",
   "metadata": {},
   "outputs": [
    {
     "name": "stderr",
     "output_type": "stream",
     "text": [
      "Warning message:\n",
      "\"package 'car' was built under R version 4.1.3\"\n",
      "Loading required package: carData\n",
      "\n",
      "Warning message:\n",
      "\"package 'carData' was built under R version 4.1.3\"\n",
      "Warning message:\n",
      "\"package 'caret' was built under R version 4.1.3\"\n",
      "Loading required package: ggplot2\n",
      "\n",
      "Loading required package: lattice\n",
      "\n",
      "Warning message:\n",
      "\"package 'predictmeans' was built under R version 4.1.3\"\n",
      "Loading required package: lme4\n",
      "\n",
      "Warning message:\n",
      "\"package 'lme4' was built under R version 4.1.3\"\n",
      "Loading required package: Matrix\n",
      "\n",
      "Loading required package: nlme\n",
      "\n",
      "\n",
      "Attaching package: 'nlme'\n",
      "\n",
      "\n",
      "The following object is masked from 'package:lme4':\n",
      "\n",
      "    lmList\n",
      "\n",
      "\n",
      "Loading required package: lmeInfo\n",
      "\n",
      "Warning message:\n",
      "\"package 'lmeInfo' was built under R version 4.1.3\"\n",
      "Loading required package: parallel\n",
      "\n",
      "Warning message:\n",
      "\"package 'e1071' was built under R version 4.1.3\"\n",
      "Warning message:\n",
      "\"package 'lmtest' was built under R version 4.1.3\"\n",
      "Loading required package: zoo\n",
      "\n",
      "\n",
      "Attaching package: 'zoo'\n",
      "\n",
      "\n",
      "The following objects are masked from 'package:base':\n",
      "\n",
      "    as.Date, as.Date.numeric\n",
      "\n",
      "\n"
     ]
    }
   ],
   "source": [
    "library(\"car\")\n",
    "library(\"caret\")\n",
    "library(\"gvlma\")\n",
    "library(\"predictmeans\")\n",
    "library(\"e1071\")\n",
    "library(\"lmtest\")"
   ]
  },
  {
   "cell_type": "markdown",
   "id": "f7248560-c130-4270-88e3-4d99c161ce16",
   "metadata": {},
   "source": [
    "# Simple Linear Regression in R"
   ]
  },
  {
   "cell_type": "code",
   "execution_count": null,
   "id": "07384101-7fd7-4133-8e89-2a03c0298dc1",
   "metadata": {},
   "outputs": [],
   "source": []
  }
 ],
 "metadata": {
  "kernelspec": {
   "display_name": "R",
   "language": "R",
   "name": "ir"
  },
  "language_info": {
   "codemirror_mode": "r",
   "file_extension": ".r",
   "mimetype": "text/x-r-source",
   "name": "R",
   "pygments_lexer": "r",
   "version": "4.1.2"
  }
 },
 "nbformat": 4,
 "nbformat_minor": 5
}
