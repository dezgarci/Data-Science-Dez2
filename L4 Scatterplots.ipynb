{
 "cells": [
  {
   "cell_type": "markdown",
   "id": "4c443f7f",
   "metadata": {},
   "source": [
    "# Scatter Plots using USDA_nutrition Dataset"
   ]
  },
  {
   "cell_type": "code",
   "execution_count": 9,
   "id": "0b1bb888",
   "metadata": {},
   "outputs": [],
   "source": [
    "import pandas as pd\n",
    "import matplotlib as mlab\n",
    "import seaborn as sns\n",
    "import matplotlib.pyplot as plt"
   ]
  },
  {
   "cell_type": "code",
   "execution_count": 6,
   "id": "e389fa7b",
   "metadata": {},
   "outputs": [
    {
     "data": {
      "text/html": [
       "<div>\n",
       "<style scoped>\n",
       "    .dataframe tbody tr th:only-of-type {\n",
       "        vertical-align: middle;\n",
       "    }\n",
       "\n",
       "    .dataframe tbody tr th {\n",
       "        vertical-align: top;\n",
       "    }\n",
       "\n",
       "    .dataframe thead th {\n",
       "        text-align: right;\n",
       "    }\n",
       "</style>\n",
       "<table border=\"1\" class=\"dataframe\">\n",
       "  <thead>\n",
       "    <tr style=\"text-align: right;\">\n",
       "      <th></th>\n",
       "      <th>nutrition id</th>\n",
       "      <th>crop group</th>\n",
       "      <th>food item name</th>\n",
       "      <th>fats</th>\n",
       "      <th>carbs</th>\n",
       "      <th>fiber</th>\n",
       "      <th>sat fats</th>\n",
       "      <th>mono unsaturated</th>\n",
       "      <th>polyunsaturated</th>\n",
       "      <th>Vit B12</th>\n",
       "      <th>Ca</th>\n",
       "      <th>K</th>\n",
       "      <th>water</th>\n",
       "      <th>kcal</th>\n",
       "      <th>protein</th>\n",
       "    </tr>\n",
       "  </thead>\n",
       "  <tbody>\n",
       "    <tr>\n",
       "      <th>0</th>\n",
       "      <td>1</td>\n",
       "      <td>allium</td>\n",
       "      <td>garlic</td>\n",
       "      <td>0.50</td>\n",
       "      <td>33.06</td>\n",
       "      <td>2.10</td>\n",
       "      <td>0.09</td>\n",
       "      <td>0.01</td>\n",
       "      <td>0.25</td>\n",
       "      <td>0.00</td>\n",
       "      <td>181.0</td>\n",
       "      <td>401.0</td>\n",
       "      <td>58.58</td>\n",
       "      <td>149.0</td>\n",
       "      <td>6.36</td>\n",
       "    </tr>\n",
       "    <tr>\n",
       "      <th>1</th>\n",
       "      <td>2</td>\n",
       "      <td>allium</td>\n",
       "      <td>leek</td>\n",
       "      <td>0.30</td>\n",
       "      <td>14.15</td>\n",
       "      <td>1.80</td>\n",
       "      <td>0.04</td>\n",
       "      <td>0.00</td>\n",
       "      <td>0.17</td>\n",
       "      <td>0.00</td>\n",
       "      <td>59.0</td>\n",
       "      <td>180.0</td>\n",
       "      <td>83.00</td>\n",
       "      <td>61.0</td>\n",
       "      <td>1.50</td>\n",
       "    </tr>\n",
       "    <tr>\n",
       "      <th>2</th>\n",
       "      <td>3</td>\n",
       "      <td>allium</td>\n",
       "      <td>onion</td>\n",
       "      <td>0.15</td>\n",
       "      <td>8.34</td>\n",
       "      <td>2.15</td>\n",
       "      <td>0.04</td>\n",
       "      <td>0.02</td>\n",
       "      <td>0.05</td>\n",
       "      <td>0.00</td>\n",
       "      <td>47.5</td>\n",
       "      <td>211.0</td>\n",
       "      <td>89.47</td>\n",
       "      <td>36.0</td>\n",
       "      <td>1.47</td>\n",
       "    </tr>\n",
       "    <tr>\n",
       "      <th>3</th>\n",
       "      <td>4</td>\n",
       "      <td>allium</td>\n",
       "      <td>shallot</td>\n",
       "      <td>0.10</td>\n",
       "      <td>16.80</td>\n",
       "      <td>3.20</td>\n",
       "      <td>0.02</td>\n",
       "      <td>0.01</td>\n",
       "      <td>0.04</td>\n",
       "      <td>0.00</td>\n",
       "      <td>37.0</td>\n",
       "      <td>334.0</td>\n",
       "      <td>79.80</td>\n",
       "      <td>72.0</td>\n",
       "      <td>2.50</td>\n",
       "    </tr>\n",
       "    <tr>\n",
       "      <th>4</th>\n",
       "      <td>5</td>\n",
       "      <td>cereal</td>\n",
       "      <td>barley</td>\n",
       "      <td>1.16</td>\n",
       "      <td>77.72</td>\n",
       "      <td>15.60</td>\n",
       "      <td>0.24</td>\n",
       "      <td>0.15</td>\n",
       "      <td>0.56</td>\n",
       "      <td>0.00</td>\n",
       "      <td>29.0</td>\n",
       "      <td>280.0</td>\n",
       "      <td>10.09</td>\n",
       "      <td>352.0</td>\n",
       "      <td>9.91</td>\n",
       "    </tr>\n",
       "    <tr>\n",
       "      <th>...</th>\n",
       "      <td>...</td>\n",
       "      <td>...</td>\n",
       "      <td>...</td>\n",
       "      <td>...</td>\n",
       "      <td>...</td>\n",
       "      <td>...</td>\n",
       "      <td>...</td>\n",
       "      <td>...</td>\n",
       "      <td>...</td>\n",
       "      <td>...</td>\n",
       "      <td>...</td>\n",
       "      <td>...</td>\n",
       "      <td>...</td>\n",
       "      <td>...</td>\n",
       "      <td>...</td>\n",
       "    </tr>\n",
       "    <tr>\n",
       "      <th>232</th>\n",
       "      <td>233</td>\n",
       "      <td>spices</td>\n",
       "      <td>cloves</td>\n",
       "      <td>13.00</td>\n",
       "      <td>65.53</td>\n",
       "      <td>33.90</td>\n",
       "      <td>3.95</td>\n",
       "      <td>1.39</td>\n",
       "      <td>3.61</td>\n",
       "      <td>0.00</td>\n",
       "      <td>632.0</td>\n",
       "      <td>1020.0</td>\n",
       "      <td>9.87</td>\n",
       "      <td>274.0</td>\n",
       "      <td>5.97</td>\n",
       "    </tr>\n",
       "    <tr>\n",
       "      <th>233</th>\n",
       "      <td>234</td>\n",
       "      <td>alcoholic beverages</td>\n",
       "      <td>lager beer</td>\n",
       "      <td>0.00</td>\n",
       "      <td>3.55</td>\n",
       "      <td>0.00</td>\n",
       "      <td>0.00</td>\n",
       "      <td>0.00</td>\n",
       "      <td>0.00</td>\n",
       "      <td>0.02</td>\n",
       "      <td>4.0</td>\n",
       "      <td>27.0</td>\n",
       "      <td>91.96</td>\n",
       "      <td>43.0</td>\n",
       "      <td>0.46</td>\n",
       "    </tr>\n",
       "    <tr>\n",
       "      <th>234</th>\n",
       "      <td>235</td>\n",
       "      <td>alcoholic beverages</td>\n",
       "      <td>high alcohol beer</td>\n",
       "      <td>0.00</td>\n",
       "      <td>0.27</td>\n",
       "      <td>0.00</td>\n",
       "      <td>0.00</td>\n",
       "      <td>0.00</td>\n",
       "      <td>0.00</td>\n",
       "      <td>0.02</td>\n",
       "      <td>8.0</td>\n",
       "      <td>62.0</td>\n",
       "      <td>91.00</td>\n",
       "      <td>58.0</td>\n",
       "      <td>0.90</td>\n",
       "    </tr>\n",
       "    <tr>\n",
       "      <th>235</th>\n",
       "      <td>236</td>\n",
       "      <td>alcoholic beverages</td>\n",
       "      <td>wine</td>\n",
       "      <td>0.00</td>\n",
       "      <td>2.61</td>\n",
       "      <td>0.00</td>\n",
       "      <td>0.00</td>\n",
       "      <td>0.00</td>\n",
       "      <td>0.00</td>\n",
       "      <td>0.00</td>\n",
       "      <td>8.0</td>\n",
       "      <td>127.0</td>\n",
       "      <td>86.49</td>\n",
       "      <td>85.0</td>\n",
       "      <td>0.07</td>\n",
       "    </tr>\n",
       "    <tr>\n",
       "      <th>236</th>\n",
       "      <td>237</td>\n",
       "      <td>alcoholic beverages</td>\n",
       "      <td>distilled alcohol</td>\n",
       "      <td>0.00</td>\n",
       "      <td>0.00</td>\n",
       "      <td>0.00</td>\n",
       "      <td>0.00</td>\n",
       "      <td>0.00</td>\n",
       "      <td>0.00</td>\n",
       "      <td>0.00</td>\n",
       "      <td>0.0</td>\n",
       "      <td>2.0</td>\n",
       "      <td>66.60</td>\n",
       "      <td>231.0</td>\n",
       "      <td>0.00</td>\n",
       "    </tr>\n",
       "  </tbody>\n",
       "</table>\n",
       "<p>237 rows × 15 columns</p>\n",
       "</div>"
      ],
      "text/plain": [
       "     nutrition id           crop group     food item name   fats  carbs  \\\n",
       "0               1               allium             garlic   0.50  33.06   \n",
       "1               2               allium               leek   0.30  14.15   \n",
       "2               3               allium              onion   0.15   8.34   \n",
       "3               4               allium            shallot   0.10  16.80   \n",
       "4               5               cereal             barley   1.16  77.72   \n",
       "..            ...                  ...                ...    ...    ...   \n",
       "232           233               spices             cloves  13.00  65.53   \n",
       "233           234  alcoholic beverages         lager beer   0.00   3.55   \n",
       "234           235  alcoholic beverages  high alcohol beer   0.00   0.27   \n",
       "235           236  alcoholic beverages               wine   0.00   2.61   \n",
       "236           237  alcoholic beverages  distilled alcohol   0.00   0.00   \n",
       "\n",
       "     fiber  sat fats  mono unsaturated  polyunsaturated  Vit B12     Ca  \\\n",
       "0     2.10      0.09              0.01             0.25     0.00  181.0   \n",
       "1     1.80      0.04              0.00             0.17     0.00   59.0   \n",
       "2     2.15      0.04              0.02             0.05     0.00   47.5   \n",
       "3     3.20      0.02              0.01             0.04     0.00   37.0   \n",
       "4    15.60      0.24              0.15             0.56     0.00   29.0   \n",
       "..     ...       ...               ...              ...      ...    ...   \n",
       "232  33.90      3.95              1.39             3.61     0.00  632.0   \n",
       "233   0.00      0.00              0.00             0.00     0.02    4.0   \n",
       "234   0.00      0.00              0.00             0.00     0.02    8.0   \n",
       "235   0.00      0.00              0.00             0.00     0.00    8.0   \n",
       "236   0.00      0.00              0.00             0.00     0.00    0.0   \n",
       "\n",
       "          K  water   kcal  protein  \n",
       "0     401.0  58.58  149.0     6.36  \n",
       "1     180.0  83.00   61.0     1.50  \n",
       "2     211.0  89.47   36.0     1.47  \n",
       "3     334.0  79.80   72.0     2.50  \n",
       "4     280.0  10.09  352.0     9.91  \n",
       "..      ...    ...    ...      ...  \n",
       "232  1020.0   9.87  274.0     5.97  \n",
       "233    27.0  91.96   43.0     0.46  \n",
       "234    62.0  91.00   58.0     0.90  \n",
       "235   127.0  86.49   85.0     0.07  \n",
       "236     2.0  66.60  231.0     0.00  \n",
       "\n",
       "[237 rows x 15 columns]"
      ]
     },
     "execution_count": 6,
     "metadata": {},
     "output_type": "execute_result"
    }
   ],
   "source": [
    "nutrition = pd.read_csv(\"USDA_nutrition.csv\")\n",
    "nutrition"
   ]
  },
  {
   "cell_type": "code",
   "execution_count": 11,
   "id": "55e715ca",
   "metadata": {},
   "outputs": [
    {
     "data": {
      "text/plain": [
       "Text(0, 0.5, 'Saturated Fats')"
      ]
     },
     "execution_count": 11,
     "metadata": {},
     "output_type": "execute_result"
    },
    {
     "data": {
      "image/png": "[encoded data removed]",
      "text/plain": [
       "<Figure size 432x288 with 1 Axes>"
      ]
     },
     "metadata": {
      "needs_background": "light"
     },
     "output_type": "display_data"
    }
   ],
   "source": [
    "\n",
    "Plot = nutrition.plot.scatter(x='fats', y='sat fats')\n",
    "Plot.set_title(\"Fats by Saturated Fats\")\n",
    "Plot.set_xlabel(\"Fats\")\n",
    "Plot.set_ylabel(\"Saturated Fats\")"
   ]
  },
  {
   "cell_type": "markdown",
   "id": "c7394108",
   "metadata": {},
   "source": [
    "## scatter plot showing 3 quantitative variables, with color transparency component for protein content"
   ]
  },
  {
   "cell_type": "code",
   "execution_count": 12,
   "id": "e2f9f422",
   "metadata": {},
   "outputs": [
    {
     "data": {
      "text/plain": [
       "Text(0, 0.5, 'Saturated Fats')"
      ]
     },
     "execution_count": 12,
     "metadata": {},
     "output_type": "execute_result"
    },
    {
     "data": {
      "image/png": "[encoded data removed]",
      "text/plain": [
       "<Figure size 432x288 with 2 Axes>"
      ]
     },
     "metadata": {
      "needs_background": "light"
     },
     "output_type": "display_data"
    }
   ],
   "source": [
    "Plot = nutrition.plot.scatter(x='fats', y='sat fats', c='protein')\n",
    "Plot.set_title(\"Fats by Saturated Fats and Protein\")\n",
    "Plot.set_xlabel(\"Fats\")\n",
    "Plot.set_ylabel(\"Saturated Fats\")"
   ]
  },
  {
   "cell_type": "markdown",
   "id": "6cd7a517",
   "metadata": {},
   "source": [
    "## scatter plot showing 3 quantitative variables, with color transparency component for protein content and coolwarm color"
   ]
  },
  {
   "cell_type": "code",
   "execution_count": 13,
   "id": "e6633b1a",
   "metadata": {},
   "outputs": [
    {
     "data": {
      "text/plain": [
       "Text(0, 0.5, 'Saturated Fats')"
      ]
     },
     "execution_count": 13,
     "metadata": {},
     "output_type": "execute_result"
    },
    {
     "data": {
      "image/png": "[encoded data removed]",
      "text/plain": [
       "<Figure size 432x288 with 2 Axes>"
      ]
     },
     "metadata": {
      "needs_background": "light"
     },
     "output_type": "display_data"
    }
   ],
   "source": [
    "Plot = nutrition.plot.scatter(x='fats', y='sat fats', c='protein', cmap='coolwarm')\n",
    "Plot.set_title(\"Fats by Saturated Fats and Protein\")\n",
    "Plot.set_xlabel(\"Fats\")\n",
    "Plot.set_ylabel(\"Saturated Fats\")"
   ]
  },
  {
   "cell_type": "markdown",
   "id": "b2b318b6",
   "metadata": {},
   "source": [
    "## To add size to the dots"
   ]
  },
  {
   "cell_type": "markdown",
   "id": "41653413",
   "metadata": {},
   "source": [
    "## by size"
   ]
  },
  {
   "cell_type": "code",
   "execution_count": 14,
   "id": "86d66c06",
   "metadata": {},
   "outputs": [
    {
     "data": {
      "text/plain": [
       "Text(0, 0.5, 'Saturated Fats')"
      ]
     },
     "execution_count": 14,
     "metadata": {},
     "output_type": "execute_result"
    },
    {
     "data": {
      "image/png": "[encoded data removed]",
      "text/plain": [
       "<Figure size 432x288 with 1 Axes>"
      ]
     },
     "metadata": {
      "needs_background": "light"
     },
     "output_type": "display_data"
    }
   ],
   "source": [
    "Plot = nutrition.plot.scatter(x='fats', y='sat fats', s=nutrition['protein'])\n",
    "Plot.set_title(\"Fats by Saturated Fats and Protein\")\n",
    "Plot.set_xlabel(\"Fats\")\n",
    "Plot.set_ylabel(\"Saturated Fats\")"
   ]
  },
  {
   "cell_type": "code",
   "execution_count": 15,
   "id": "96281dcf",
   "metadata": {},
   "outputs": [
    {
     "data": {
      "text/plain": [
       "Text(0, 0.5, 'Saturated Fats')"
      ]
     },
     "execution_count": 15,
     "metadata": {},
     "output_type": "execute_result"
    },
    {
     "data": {
      "image/png": "[encoded data removed]",
      "text/plain": [
       "<Figure size 432x288 with 1 Axes>"
      ]
     },
     "metadata": {
      "needs_background": "light"
     },
     "output_type": "display_data"
    }
   ],
   "source": [
    "## if dots are too small/indistinguishable: multiply by an even # until looks good\n",
    "\n",
    "Plot = nutrition.plot.scatter(x='fats', y='sat fats', s=nutrition['protein']*2)\n",
    "Plot.set_title(\"Fats by Saturated Fats and Protein\")\n",
    "Plot.set_xlabel(\"Fats\")\n",
    "Plot.set_ylabel(\"Saturated Fats\")"
   ]
  },
  {
   "cell_type": "code",
   "execution_count": null,
   "id": "a469c9dc",
   "metadata": {},
   "outputs": [],
   "source": []
  }
 ],
 "metadata": {
  "kernelspec": {
   "display_name": "Python 3 (ipykernel)",
   "language": "python",
   "name": "python3"
  },
  "language_info": {
   "codemirror_mode": {
    "name": "ipython",
    "version": 3
   },
   "file_extension": ".py",
   "mimetype": "text/x-python",
   "name": "python",
   "nbconvert_exporter": "python",
   "pygments_lexer": "ipython3",
   "version": "3.10.4"
  }
 },
 "nbformat": 4,
 "nbformat_minor": 5
}
