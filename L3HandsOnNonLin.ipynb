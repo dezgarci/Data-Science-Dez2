{
 "cells": [
  {
   "cell_type": "markdown",
   "id": "1f986023-8315-4e42-9c08-2eca84f03745",
   "metadata": {},
   "source": [
    "# Non-Linear Modeling"
   ]
  },
  {
   "cell_type": "code",
   "execution_count": 1,
   "id": "16df43ee-0ff0-4c1b-baa0-c04aebe42098",
   "metadata": {},
   "outputs": [],
   "source": [
    "library(\"ggplot2\")"
   ]
  },
  {
   "cell_type": "code",
   "execution_count": 2,
   "id": "0fb19ee0-3e9c-453a-ba4d-4a8e0fac5239",
   "metadata": {},
   "outputs": [],
   "source": [
    "nonlinear = read.csv('nonlinear.csv')"
   ]
  },
  {
   "cell_type": "code",
   "execution_count": 7,
   "id": "24488cc1-6628-4e48-9049-d8ba8a1e8835",
   "metadata": {},
   "outputs": [
    {
     "name": "stderr",
     "output_type": "stream",
     "text": [
      "Warning message:\n",
      "\"Removed 4 rows containing missing values (geom_point).\"\n"
     ]
    },
    {
     "data": {
      "image/png": "[encoded data removed]",
      "text/plain": [
       "plot without title"
      ]
     },
     "metadata": {
      "image/png": {
       "height": 420,
       "width": 420
      }
     },
     "output_type": "display_data"
    }
   ],
   "source": [
    "# Create a scatter plot of each x/y variable data set\n",
    "\n",
    "ggplot(nonlinear, aes(x=X1, y=Y1)) + geom_point() \n",
    "    \n",
    "#appears that this could be a quadratic model"
   ]
  },
  {
   "cell_type": "code",
   "execution_count": 8,
   "id": "b1519782-f727-4ae2-ba4c-56d0f73d5aa9",
   "metadata": {},
   "outputs": [
    {
     "data": {
      "image/png": "[encoded data removed]",
      "text/plain": [
       "plot without title"
      ]
     },
     "metadata": {
      "image/png": {
       "height": 420,
       "width": 420
      }
     },
     "output_type": "display_data"
    }
   ],
   "source": [
    "ggplot(nonlinear, aes(x=X2, y=Y2)) + geom_point() \n",
    "\n",
    "#appears that this could fit an exponential model"
   ]
  },
  {
   "cell_type": "markdown",
   "id": "09610f6b-78ed-4569-b0fb-751cdbbac38e",
   "metadata": {},
   "source": [
    "## Quadratic Modeling"
   ]
  },
  {
   "cell_type": "code",
   "execution_count": 9,
   "id": "0ad2886d-7260-4af4-8f82-5b2fde5ade7b",
   "metadata": {},
   "outputs": [
    {
     "name": "stderr",
     "output_type": "stream",
     "text": [
      "Warning message:\n",
      "\"Removed 4 rows containing non-finite values (stat_smooth).\"\n",
      "Warning message:\n",
      "\"Removed 4 rows containing missing values (geom_point).\"\n"
     ]
    },
    {
     "data": {
      "image/png": "[encoded data removed]",
      "text/plain": [
       "plot without title"
      ]
     },
     "metadata": {
      "image/png": {
       "height": 420,
       "width": 420
      }
     },
     "output_type": "display_data"
    }
   ],
   "source": [
    "# create quadratic model for the x1/y1 set:\n",
    "quadPlot <- ggplot(nonlinear, aes(x = X1, y=Y1)) + \n",
    "geom_point() + \n",
    "stat_smooth(method = \"lm\", formula = y ~x + I(x^2), size =1)\n",
    "quadPlot"
   ]
  },
  {
   "cell_type": "code",
   "execution_count": 10,
   "id": "e80128a8-cce4-44d8-bb81-b35828bc8805",
   "metadata": {},
   "outputs": [],
   "source": [
    "#Model the quadratic relationship\n",
    "\n",
    "#First, square the \"x\" term:\n",
    "X1sq <- nonlinear$X1^2"
   ]
  },
  {
   "cell_type": "code",
   "execution_count": 11,
   "id": "04c0e495-7e4c-410f-a14d-d6996a64a044",
   "metadata": {},
   "outputs": [
    {
     "data": {
      "text/plain": [
       "\n",
       "Call:\n",
       "lm(formula = nonlinear$Y1 ~ nonlinear$X1 + X1sq)\n",
       "\n",
       "Residuals:\n",
       "    Min      1Q  Median      3Q     Max \n",
       "-8.1829 -3.5405  0.3129  3.3066  8.1229 \n",
       "\n",
       "Coefficients:\n",
       "             Estimate Std. Error t value Pr(>|t|)    \n",
       "(Intercept)  134.0067    10.6525   12.58 6.26e-14 ***\n",
       "nonlinear$X1  22.4021     2.1788   10.28 1.14e-11 ***\n",
       "X1sq          -1.7723     0.1066  -16.62  < 2e-16 ***\n",
       "---\n",
       "Signif. codes:  0 '***' 0.001 '**' 0.01 '*' 0.05 '.' 0.1 ' ' 1\n",
       "\n",
       "Residual standard error: 4.338 on 32 degrees of freedom\n",
       "  (4 observations deleted due to missingness)\n",
       "Multiple R-squared:  0.9871,\tAdjusted R-squared:  0.9863 \n",
       "F-statistic:  1221 on 2 and 32 DF,  p-value: < 2.2e-16\n"
      ]
     },
     "metadata": {},
     "output_type": "display_data"
    }
   ],
   "source": [
    "quadModel <- lm(nonlinear$Y1~nonlinear$X1+X1sq)\n",
    "summary(quadModel)"
   ]
  },
  {
   "cell_type": "code",
   "execution_count": 12,
   "id": "63a702d4-d9cc-4438-be5b-17f4726222be",
   "metadata": {},
   "outputs": [],
   "source": [
    "# \"X1 is a significant predictor of Y1\""
   ]
  },
  {
   "cell_type": "markdown",
   "id": "a66e6b17-7154-408b-83d2-f3a0b893c430",
   "metadata": {},
   "source": [
    "## Exponential Modeling"
   ]
  },
  {
   "cell_type": "code",
   "execution_count": 14,
   "id": "65c9e98f-b103-497c-9ca4-deb7a2ec8a1c",
   "metadata": {},
   "outputs": [
    {
     "data": {
      "text/plain": [
       "\n",
       "Call:\n",
       "lm(formula = log(nonlinear$Y2) ~ nonlinear$X2)\n",
       "\n",
       "Residuals:\n",
       "     Min       1Q   Median       3Q      Max \n",
       "-0.43355 -0.07484  0.02495  0.09559  0.31863 \n",
       "\n",
       "Coefficients:\n",
       "             Estimate Std. Error t value Pr(>|t|)    \n",
       "(Intercept)   2.29060    0.05693   40.23   <2e-16 ***\n",
       "nonlinear$X2  0.99481    0.05189   19.17   <2e-16 ***\n",
       "---\n",
       "Signif. codes:  0 '***' 0.001 '**' 0.01 '*' 0.05 '.' 0.1 ' ' 1\n",
       "\n",
       "Residual standard error: 0.1489 on 37 degrees of freedom\n",
       "Multiple R-squared:  0.9085,\tAdjusted R-squared:  0.9061 \n",
       "F-statistic: 367.6 on 1 and 37 DF,  p-value: < 2.2e-16\n"
      ]
     },
     "metadata": {},
     "output_type": "display_data"
    }
   ],
   "source": [
    "# take the log of the y variable\n",
    "exMod <- lm(log(nonlinear$Y2)~nonlinear$X2)\n",
    "summary(exMod)"
   ]
  },
  {
   "cell_type": "code",
   "execution_count": null,
   "id": "2da95136-f430-4184-9c7e-1efc575e024a",
   "metadata": {},
   "outputs": [],
   "source": [
    "# This model is significant.  Variable Y2 has an exponential relationship with X2.\n",
    "# For every one additional unit of X2, Y2 has increased by 99%."
   ]
  }
 ],
 "metadata": {
  "kernelspec": {
   "display_name": "R",
   "language": "R",
   "name": "ir"
  },
  "language_info": {
   "codemirror_mode": "r",
   "file_extension": ".r",
   "mimetype": "text/x-r-source",
   "name": "R",
   "pygments_lexer": "r",
   "version": "4.1.2"
  }
 },
 "nbformat": 4,
 "nbformat_minor": 5
}
