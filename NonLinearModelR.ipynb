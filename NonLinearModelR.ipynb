{
 "cells": [
  {
   "cell_type": "markdown",
   "id": "d8796215-9198-4590-b282-d957bf7b7d56",
   "metadata": {},
   "source": [
    "# Non-Linear Modeling"
   ]
  },
  {
   "cell_type": "markdown",
   "id": "4a247bc1-ff9d-47fb-b596-cd7f2aacb293",
   "metadata": {},
   "source": [
    "### Quadratic Modeling\n"
   ]
  },
  {
   "cell_type": "code",
   "execution_count": null,
   "id": "5e25da75-7b0d-4048-8125-fd3d3c881bc6",
   "metadata": {},
   "outputs": [],
   "source": [
    "# Question: Does the age of the bluegill fish influence their length?"
   ]
  },
  {
   "cell_type": "code",
   "execution_count": 1,
   "id": "c5787208-47b6-4e49-8324-ff35b8f79c42",
   "metadata": {},
   "outputs": [],
   "source": [
    "library(\"ggplot2\")"
   ]
  },
  {
   "cell_type": "code",
   "execution_count": 2,
   "id": "93f29bc5-c774-4b01-9bd3-b342fdd4a361",
   "metadata": {},
   "outputs": [],
   "source": [
    "bluegill_fish <- read.csv('bluegill_fish.csv')"
   ]
  },
  {
   "cell_type": "code",
   "execution_count": 5,
   "id": "2dae0bda-53f8-46df-884c-9c02c35c26ac",
   "metadata": {},
   "outputs": [
    {
     "data": {
      "image/png": "[encoded data removed]",
      "text/plain": [
       "plot without title"
      ]
     },
     "metadata": {
      "image/png": {
       "height": 420,
       "width": 420
      }
     },
     "output_type": "display_data"
    }
   ],
   "source": [
    "# graph a quadratic relationship\n",
    "quadPlot <- ggplot(bluegill_fish, aes(x = age, y=length)) + \n",
    "geom_point() + \n",
    "stat_smooth(method = \"lm\", formula = y ~x + I(x^2), size =1)\n",
    "quadPlot"
   ]
  },
  {
   "cell_type": "code",
   "execution_count": 6,
   "id": "7a4f2425-df59-4984-b0ad-37b9ea8f69e5",
   "metadata": {},
   "outputs": [],
   "source": [
    "# model the quadratic relationship\n",
    "\n",
    "#First, square the \"x\" term:\n",
    "Agesq <- bluegill_fish$age^2"
   ]
  },
  {
   "cell_type": "code",
   "execution_count": 7,
   "id": "5f9f7a5a-8961-47ff-81a8-97d7a9fb215a",
   "metadata": {},
   "outputs": [
    {
     "data": {
      "text/plain": [
       "\n",
       "Call:\n",
       "lm(formula = bluegill_fish$length ~ bluegill_fish$age + Agesq)\n",
       "\n",
       "Residuals:\n",
       "     Min       1Q   Median       3Q      Max \n",
       "-18.6170  -5.7699  -0.6662   5.6881  18.1085 \n",
       "\n",
       "Coefficients:\n",
       "                  Estimate Std. Error t value Pr(>|t|)    \n",
       "(Intercept)         2.4242     9.5976   0.253    0.801    \n",
       "bluegill_fish$age  50.4923     5.2141   9.684 7.53e-15 ***\n",
       "Agesq              -3.6511     0.6951  -5.253 1.36e-06 ***\n",
       "---\n",
       "Signif. codes:  0 '***' 0.001 '**' 0.01 '*' 0.05 '.' 0.1 ' ' 1\n",
       "\n",
       "Residual standard error: 7.911 on 75 degrees of freedom\n",
       "Multiple R-squared:  0.8954,\tAdjusted R-squared:  0.8926 \n",
       "F-statistic: 320.9 on 2 and 75 DF,  p-value: < 2.2e-16\n"
      ]
     },
     "metadata": {},
     "output_type": "display_data"
    }
   ],
   "source": [
    "quadModel <- lm(bluegill_fish$length~bluegill_fish$age+Agesq)\n",
    "summary(quadModel)\n",
    "# p value is less than 0.05, so this quadratic model is significant.\n",
    "# \"age is a significant quadratic predicctor of bluegill fish length\""
   ]
  },
  {
   "cell_type": "markdown",
   "id": "342bd6a7-52ef-4c92-91bd-f52a9fe690c9",
   "metadata": {},
   "source": [
    "### Exponential Modeling"
   ]
  },
  {
   "cell_type": "code",
   "execution_count": 8,
   "id": "6a15972a-a7b1-4c44-be0d-63b39433f3d4",
   "metadata": {},
   "outputs": [],
   "source": [
    "bacteria <- read.csv('bacteria.csv')"
   ]
  },
  {
   "cell_type": "code",
   "execution_count": 9,
   "id": "3b49e9b6-0b23-467b-af56-5e1eb35da68d",
   "metadata": {},
   "outputs": [
    {
     "data": {
      "text/html": [
       "<table class=\"dataframe\">\n",
       "<caption>A data.frame: 15 × 2</caption>\n",
       "<thead>\n",
       "\t<tr><th scope=col>Period</th><th scope=col>Count</th></tr>\n",
       "\t<tr><th scope=col>&lt;int&gt;</th><th scope=col>&lt;int&gt;</th></tr>\n",
       "</thead>\n",
       "<tbody>\n",
       "\t<tr><td> 0</td><td> 15</td></tr>\n",
       "\t<tr><td> 1</td><td> 19</td></tr>\n",
       "\t<tr><td> 2</td><td> 21</td></tr>\n",
       "\t<tr><td> 3</td><td> 22</td></tr>\n",
       "\t<tr><td> 4</td><td> 28</td></tr>\n",
       "\t<tr><td> 5</td><td> 32</td></tr>\n",
       "\t<tr><td> 6</td><td> 43</td></tr>\n",
       "\t<tr><td> 7</td><td> 45</td></tr>\n",
       "\t<tr><td> 8</td><td> 58</td></tr>\n",
       "\t<tr><td> 9</td><td> 71</td></tr>\n",
       "\t<tr><td>10</td><td> 77</td></tr>\n",
       "\t<tr><td>11</td><td> 94</td></tr>\n",
       "\t<tr><td>12</td><td>110</td></tr>\n",
       "\t<tr><td>13</td><td>122</td></tr>\n",
       "\t<tr><td>14</td><td>150</td></tr>\n",
       "</tbody>\n",
       "</table>\n"
      ],
      "text/latex": [
       "A data.frame: 15 × 2\n",
       "\\begin{tabular}{ll}\n",
       " Period & Count\\\\\n",
       " <int> & <int>\\\\\n",
       "\\hline\n",
       "\t  0 &  15\\\\\n",
       "\t  1 &  19\\\\\n",
       "\t  2 &  21\\\\\n",
       "\t  3 &  22\\\\\n",
       "\t  4 &  28\\\\\n",
       "\t  5 &  32\\\\\n",
       "\t  6 &  43\\\\\n",
       "\t  7 &  45\\\\\n",
       "\t  8 &  58\\\\\n",
       "\t  9 &  71\\\\\n",
       "\t 10 &  77\\\\\n",
       "\t 11 &  94\\\\\n",
       "\t 12 & 110\\\\\n",
       "\t 13 & 122\\\\\n",
       "\t 14 & 150\\\\\n",
       "\\end{tabular}\n"
      ],
      "text/markdown": [
       "\n",
       "A data.frame: 15 × 2\n",
       "\n",
       "| Period &lt;int&gt; | Count &lt;int&gt; |\n",
       "|---|---|\n",
       "|  0 |  15 |\n",
       "|  1 |  19 |\n",
       "|  2 |  21 |\n",
       "|  3 |  22 |\n",
       "|  4 |  28 |\n",
       "|  5 |  32 |\n",
       "|  6 |  43 |\n",
       "|  7 |  45 |\n",
       "|  8 |  58 |\n",
       "|  9 |  71 |\n",
       "| 10 |  77 |\n",
       "| 11 |  94 |\n",
       "| 12 | 110 |\n",
       "| 13 | 122 |\n",
       "| 14 | 150 |\n",
       "\n"
      ],
      "text/plain": [
       "   Period Count\n",
       "1   0      15  \n",
       "2   1      19  \n",
       "3   2      21  \n",
       "4   3      22  \n",
       "5   4      28  \n",
       "6   5      32  \n",
       "7   6      43  \n",
       "8   7      45  \n",
       "9   8      58  \n",
       "10  9      71  \n",
       "11 10      77  \n",
       "12 11      94  \n",
       "13 12     110  \n",
       "14 13     122  \n",
       "15 14     150  "
      ]
     },
     "metadata": {},
     "output_type": "display_data"
    }
   ],
   "source": [
    "bacteria"
   ]
  },
  {
   "cell_type": "code",
   "execution_count": 10,
   "id": "d98082f0-a37e-4dac-8aa6-1e34ffc58518",
   "metadata": {},
   "outputs": [
    {
     "data": {
      "text/plain": [
       "\n",
       "Call:\n",
       "lm(formula = log(bacteria$Count) ~ bacteria$Period)\n",
       "\n",
       "Residuals:\n",
       "      Min        1Q    Median        3Q       Max \n",
       "-0.106253 -0.038496  0.006744  0.029930  0.077803 \n",
       "\n",
       "Coefficients:\n",
       "                Estimate Std. Error t value Pr(>|t|)    \n",
       "(Intercept)     2.701306   0.027086   99.73  < 2e-16 ***\n",
       "bacteria$Period 0.165330   0.003293   50.21 2.84e-16 ***\n",
       "---\n",
       "Signif. codes:  0 '***' 0.001 '**' 0.01 '*' 0.05 '.' 0.1 ' ' 1\n",
       "\n",
       "Residual standard error: 0.0551 on 13 degrees of freedom\n",
       "Multiple R-squared:  0.9949,\tAdjusted R-squared:  0.9945 \n",
       "F-statistic:  2521 on 1 and 13 DF,  p-value: 2.841e-16\n"
      ]
     },
     "metadata": {},
     "output_type": "display_data"
    }
   ],
   "source": [
    "# first, take the log of the y variable\n",
    "exMod <- lm(log(bacteria$Count)~bacteria$Period)\n",
    "summary(exMod)"
   ]
  },
  {
   "cell_type": "code",
   "execution_count": null,
   "id": "fbc4c72a-e78c-43c3-af5e-a00855326cfc",
   "metadata": {},
   "outputs": [],
   "source": []
  }
 ],
 "metadata": {
  "kernelspec": {
   "display_name": "R",
   "language": "R",
   "name": "ir"
  },
  "language_info": {
   "codemirror_mode": "r",
   "file_extension": ".r",
   "mimetype": "text/x-r-source",
   "name": "R",
   "pygments_lexer": "r",
   "version": "4.1.2"
  }
 },
 "nbformat": 4,
 "nbformat_minor": 5
}
