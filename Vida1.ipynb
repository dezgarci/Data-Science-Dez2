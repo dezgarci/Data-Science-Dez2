{
 "cells": [
  {
   "cell_type": "code",
   "execution_count": 1,
   "id": "103b77a5-f92e-4bd5-995c-75d3a3512fa0",
   "metadata": {},
   "outputs": [
    {
     "name": "stdout",
     "output_type": "stream",
     "text": [
      "Vida\n"
     ]
    }
   ],
   "source": [
    "print(\"Vida\")"
   ]
  },
  {
   "cell_type": "code",
   "execution_count": null,
   "id": "333205b7-4205-402d-829b-d48b6fe90298",
   "metadata": {},
   "outputs": [],
   "source": []
  }
 ],
 "metadata": {
  "kernelspec": {
   "display_name": "Python 3 (ipykernel)",
   "language": "python",
   "name": "python3"
  },
  "language_info": {
   "codemirror_mode": {
    "name": "ipython",
    "version": 3
   },
   "file_extension": ".py",
   "mimetype": "text/x-python",
   "name": "python",
   "nbconvert_exporter": "python",
   "pygments_lexer": "ipython3",
   "version": "3.10.4"
  }
 },
 "nbformat": 4,
 "nbformat_minor": 5
}
